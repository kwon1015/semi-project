{
 "cells": [
  {
   "cell_type": "code",
   "execution_count": 1,
   "metadata": {
    "id": "0HMMKvnXbVCD"
   },
   "outputs": [
    {
     "ename": "ModuleNotFoundError",
     "evalue": "No module named 'google.colab'",
     "output_type": "error",
     "traceback": [
      "\u001b[1;31m---------------------------------------------------------------------------\u001b[0m",
      "\u001b[1;31mModuleNotFoundError\u001b[0m                       Traceback (most recent call last)",
      "Input \u001b[1;32mIn [1]\u001b[0m, in \u001b[0;36m<cell line: 2>\u001b[1;34m()\u001b[0m\n\u001b[0;32m      1\u001b[0m \u001b[38;5;66;03m# 구글 드라이브 마운트\u001b[39;00m\n\u001b[1;32m----> 2\u001b[0m \u001b[38;5;28;01mfrom\u001b[39;00m \u001b[38;5;21;01mgoogle\u001b[39;00m\u001b[38;5;21;01m.\u001b[39;00m\u001b[38;5;21;01mcolab\u001b[39;00m \u001b[38;5;28;01mimport\u001b[39;00m drive\n\u001b[0;32m      3\u001b[0m drive\u001b[38;5;241m.\u001b[39mmount(\u001b[38;5;124m'\u001b[39m\u001b[38;5;124m/content/drive\u001b[39m\u001b[38;5;124m'\u001b[39m)\n",
      "\u001b[1;31mModuleNotFoundError\u001b[0m: No module named 'google.colab'"
     ]
    }
   ],
   "source": [
    "# 구글 드라이브 마운트\n",
    "from google.colab import drive\n",
    "drive.mount('/content/drive')"
   ]
  },
  {
   "cell_type": "code",
   "execution_count": 3,
   "metadata": {
    "id": "-nh79nrFbYoR"
   },
   "outputs": [
    {
     "data": {
      "text/html": [
       "<div>\n",
       "<style scoped>\n",
       "    .dataframe tbody tr th:only-of-type {\n",
       "        vertical-align: middle;\n",
       "    }\n",
       "\n",
       "    .dataframe tbody tr th {\n",
       "        vertical-align: top;\n",
       "    }\n",
       "\n",
       "    .dataframe thead th {\n",
       "        text-align: right;\n",
       "    }\n",
       "</style>\n",
       "<table border=\"1\" class=\"dataframe\">\n",
       "  <thead>\n",
       "    <tr style=\"text-align: right;\">\n",
       "      <th></th>\n",
       "      <th>Unnamed: 0.1</th>\n",
       "      <th>Unnamed: 0</th>\n",
       "      <th>ID</th>\n",
       "      <th>Text</th>\n",
       "      <th>Date</th>\n",
       "      <th>Key</th>\n",
       "      <th>duplicates</th>\n",
       "    </tr>\n",
       "  </thead>\n",
       "  <tbody>\n",
       "    <tr>\n",
       "      <th>0</th>\n",
       "      <td>0</td>\n",
       "      <td>0</td>\n",
       "      <td>1556991811700240384</td>\n",
       "      <td>서울 되련님들도 뭣같고 오세이돈도 뭣같고 지옥런한 새끼도 뭣같고 산불 안보러간다고 ...</td>\n",
       "      <td>2022-08-09 13:12:30</td>\n",
       "      <td>산불 or 화재</td>\n",
       "      <td>360</td>\n",
       "    </tr>\n",
       "    <tr>\n",
       "      <th>1</th>\n",
       "      <td>1</td>\n",
       "      <td>1</td>\n",
       "      <td>1556991703256821761</td>\n",
       "      <td>RT @anna12285: @babylion0505 @free351 지겹게 이어지던...</td>\n",
       "      <td>2022-08-09 13:12:04</td>\n",
       "      <td>산불 or 화재</td>\n",
       "      <td>360</td>\n",
       "    </tr>\n",
       "    <tr>\n",
       "      <th>2</th>\n",
       "      <td>2</td>\n",
       "      <td>2</td>\n",
       "      <td>1556991657337552896</td>\n",
       "      <td>RT @envsha: 이번주 뉴스만 해도\\n- 파키스탄 지난 5주간 폭우로 282명...</td>\n",
       "      <td>2022-08-09 13:11:53</td>\n",
       "      <td>산불 or 화재</td>\n",
       "      <td>360</td>\n",
       "    </tr>\n",
       "    <tr>\n",
       "      <th>3</th>\n",
       "      <td>3</td>\n",
       "      <td>3</td>\n",
       "      <td>1556991610772402176</td>\n",
       "      <td>RT @c2bwsjuhmEW3tbX: 이상 이천화재로 사람죽어갈때 경기도지사랑 떡볶...</td>\n",
       "      <td>2022-08-09 13:11:42</td>\n",
       "      <td>산불 or 화재</td>\n",
       "      <td>1614</td>\n",
       "    </tr>\n",
       "    <tr>\n",
       "      <th>4</th>\n",
       "      <td>4</td>\n",
       "      <td>4</td>\n",
       "      <td>1556991592782737410</td>\n",
       "      <td>RT @ulttung: 재난에 닥치니 진짜 문재인대통령, 이낙연 총리님시절이 그리워...</td>\n",
       "      <td>2022-08-09 13:11:37</td>\n",
       "      <td>산불 or 화재</td>\n",
       "      <td>638</td>\n",
       "    </tr>\n",
       "    <tr>\n",
       "      <th>...</th>\n",
       "      <td>...</td>\n",
       "      <td>...</td>\n",
       "      <td>...</td>\n",
       "      <td>...</td>\n",
       "      <td>...</td>\n",
       "      <td>...</td>\n",
       "      <td>...</td>\n",
       "    </tr>\n",
       "    <tr>\n",
       "      <th>258</th>\n",
       "      <td>50802</td>\n",
       "      <td>12</td>\n",
       "      <td>1556990545247215617</td>\n",
       "      <td>RT @granite0: 2022년 8월 8일 기록적인 호우로 인한 강남 침수로 오...</td>\n",
       "      <td>2022-08-09 13:07:28+00:00</td>\n",
       "      <td>기타</td>\n",
       "      <td>49</td>\n",
       "    </tr>\n",
       "    <tr>\n",
       "      <th>259</th>\n",
       "      <td>51525</td>\n",
       "      <td>0</td>\n",
       "      <td>1556990849015500800</td>\n",
       "      <td>서울에 폭설이 내리고 난리가 날 때 눈 구경할 일 없던 남쪽 끄트머리에 살던 나는 ...</td>\n",
       "      <td>2022-08-09 13:08:40+00:00</td>\n",
       "      <td>기타</td>\n",
       "      <td>49</td>\n",
       "    </tr>\n",
       "    <tr>\n",
       "      <th>260</th>\n",
       "      <td>51529</td>\n",
       "      <td>4</td>\n",
       "      <td>1556990810360807424</td>\n",
       "      <td>RT @09_25: 이미 사추 육아로 경력직이긴 했지만 위무선이 낳은 아이들 덕에 ...</td>\n",
       "      <td>2022-08-09 13:08:31+00:00</td>\n",
       "      <td>기타</td>\n",
       "      <td>49</td>\n",
       "    </tr>\n",
       "    <tr>\n",
       "      <th>261</th>\n",
       "      <td>51533</td>\n",
       "      <td>8</td>\n",
       "      <td>1556990796900904961</td>\n",
       "      <td>흐아앙이 그뜻이었어요..ㅇ0ㅇ?(동공지진 https://t.co/AVGGr9b2EW</td>\n",
       "      <td>2022-08-09 13:08:28+00:00</td>\n",
       "      <td>기타</td>\n",
       "      <td>49</td>\n",
       "    </tr>\n",
       "    <tr>\n",
       "      <th>262</th>\n",
       "      <td>51535</td>\n",
       "      <td>10</td>\n",
       "      <td>1556990792694018049</td>\n",
       "      <td>RT @yoji0802: 정말 대통령실 통째로 개판이구나! 대가리 제대로 된 놈이 ...</td>\n",
       "      <td>2022-08-09 13:08:27+00:00</td>\n",
       "      <td>기타</td>\n",
       "      <td>49</td>\n",
       "    </tr>\n",
       "  </tbody>\n",
       "</table>\n",
       "<p>263 rows × 7 columns</p>\n",
       "</div>"
      ],
      "text/plain": [
       "     Unnamed: 0.1  Unnamed: 0                   ID  \\\n",
       "0               0           0  1556991811700240384   \n",
       "1               1           1  1556991703256821761   \n",
       "2               2           2  1556991657337552896   \n",
       "3               3           3  1556991610772402176   \n",
       "4               4           4  1556991592782737410   \n",
       "..            ...         ...                  ...   \n",
       "258         50802          12  1556990545247215617   \n",
       "259         51525           0  1556990849015500800   \n",
       "260         51529           4  1556990810360807424   \n",
       "261         51533           8  1556990796900904961   \n",
       "262         51535          10  1556990792694018049   \n",
       "\n",
       "                                                  Text  \\\n",
       "0    서울 되련님들도 뭣같고 오세이돈도 뭣같고 지옥런한 새끼도 뭣같고 산불 안보러간다고 ...   \n",
       "1    RT @anna12285: @babylion0505 @free351 지겹게 이어지던...   \n",
       "2    RT @envsha: 이번주 뉴스만 해도\\n- 파키스탄 지난 5주간 폭우로 282명...   \n",
       "3    RT @c2bwsjuhmEW3tbX: 이상 이천화재로 사람죽어갈때 경기도지사랑 떡볶...   \n",
       "4    RT @ulttung: 재난에 닥치니 진짜 문재인대통령, 이낙연 총리님시절이 그리워...   \n",
       "..                                                 ...   \n",
       "258  RT @granite0: 2022년 8월 8일 기록적인 호우로 인한 강남 침수로 오...   \n",
       "259  서울에 폭설이 내리고 난리가 날 때 눈 구경할 일 없던 남쪽 끄트머리에 살던 나는 ...   \n",
       "260  RT @09_25: 이미 사추 육아로 경력직이긴 했지만 위무선이 낳은 아이들 덕에 ...   \n",
       "261     흐아앙이 그뜻이었어요..ㅇ0ㅇ?(동공지진 https://t.co/AVGGr9b2EW   \n",
       "262  RT @yoji0802: 정말 대통령실 통째로 개판이구나! 대가리 제대로 된 놈이 ...   \n",
       "\n",
       "                          Date       Key  duplicates  \n",
       "0          2022-08-09 13:12:30  산불 or 화재         360  \n",
       "1          2022-08-09 13:12:04  산불 or 화재         360  \n",
       "2          2022-08-09 13:11:53  산불 or 화재         360  \n",
       "3          2022-08-09 13:11:42  산불 or 화재        1614  \n",
       "4          2022-08-09 13:11:37  산불 or 화재         638  \n",
       "..                         ...       ...         ...  \n",
       "258  2022-08-09 13:07:28+00:00        기타          49  \n",
       "259  2022-08-09 13:08:40+00:00        기타          49  \n",
       "260  2022-08-09 13:08:31+00:00        기타          49  \n",
       "261  2022-08-09 13:08:28+00:00        기타          49  \n",
       "262  2022-08-09 13:08:27+00:00        기타          49  \n",
       "\n",
       "[263 rows x 7 columns]"
      ]
     },
     "execution_count": 3,
     "metadata": {},
     "output_type": "execute_result"
    }
   ],
   "source": [
    "import pandas as pd\n",
    "\n",
    "twitter=pd.read_csv('데이터수집본(중복없음).csv')\n",
    "\n",
    "twitter"
   ]
  },
  {
   "cell_type": "code",
   "execution_count": 4,
   "metadata": {
    "id": "Mw5vby55b5U7"
   },
   "outputs": [],
   "source": [
    "import re\n",
    "\n",
    "pattern1 = '[-=+,#/\\?:;^$.A*\"~%!\\\\\\n\\r\\t▼♣§☆♡´∀｀ﾉ♥▲�▶＊━“”]'"
   ]
  },
  {
   "cell_type": "code",
   "execution_count": 5,
   "metadata": {
    "id": "ESch64bub9ws"
   },
   "outputs": [
    {
     "name": "stdout",
     "output_type": "stream",
     "text": [
      "Collecting PyKomoran\n",
      "  Downloading PyKomoran-0.1.6.post1-py3-none-any.whl (6.4 MB)\n",
      "Collecting py4j==0.10.9.2\n",
      "  Downloading py4j-0.10.9.2-py2.py3-none-any.whl (198 kB)\n",
      "Installing collected packages: py4j, PyKomoran\n",
      "Successfully installed PyKomoran-0.1.6.post1 py4j-0.10.9.2\n"
     ]
    }
   ],
   "source": [
    "!pip install PyKomoran"
   ]
  },
  {
   "cell_type": "code",
   "execution_count": 6,
   "metadata": {
    "id": "g013Cnk2cAC9"
   },
   "outputs": [],
   "source": [
    "# 형태소분석기 불러오기\n",
    "from PyKomoran import *\n",
    "\n",
    "# 코모란을 사용하기 위한 객체 만들기\n",
    "komoran = Komoran(\"EXP\")"
   ]
  },
  {
   "cell_type": "code",
   "execution_count": 7,
   "metadata": {
    "id": "9wLFtoYscC8a"
   },
   "outputs": [
    {
     "name": "stderr",
     "output_type": "stream",
     "text": [
      "100%|████████████████████████████████████████████████████████████████████████████| 263/263 [00:00<00:00, 131839.60it/s]\n"
     ]
    },
    {
     "data": {
      "text/plain": [
       "0      서울 되련님들도 뭣같고 오세이돈도 뭣같고 지옥런한 새끼도 뭣같고 산불 안보러간다고 ...\n",
       "1      RT @anna12285 @babylion0505 @free351 지겹게 이어지던 ...\n",
       "2      RT @envsha 이번주 뉴스만 해도 파키스탄 지난 5주간 폭우로 282명 사망 ...\n",
       "3      RT @c2bwsjuhmEW3tbX 이상 이천화재로 사람죽어갈때 경기도지사랑 떡볶이...\n",
       "4      RT @ulttung 재난에 닥치니 진짜 문재인대통령 이낙연 총리님시절이 그리워죽겠...\n",
       "                             ...                        \n",
       "258    RT @granite0 2022년 8월 8일 기록적인 호우로 인한 강남 침수로 오세...\n",
       "259    서울에 폭설이 내리고 난리가 날 때 눈 구경할 일 없던 남쪽 끄트머리에 살던 나는 ...\n",
       "260    RT @09_25 이미 사추 육아로 경력직이긴 했지만 위무선이 낳은 아이들 덕에 정...\n",
       "261                흐아앙이 그뜻이었어요ㅇ0ㅇ(동공지진 httpstcoVGGr9b2EW\n",
       "262    RT @yoji0802 정말 대통령실 통째로 개판이구나 대가리 제대로 된 놈이 한개...\n",
       "Name: Text, Length: 263, dtype: object"
      ]
     },
     "execution_count": 7,
     "metadata": {},
     "output_type": "execute_result"
    }
   ],
   "source": [
    "from tqdm import tqdm\n",
    "tqdm.pandas()\n",
    "\n",
    "twitter['Text'] = twitter['Text'].progress_map(lambda x:re.sub(pattern1, '', x).strip())\n",
    "\n",
    "twitter['Text']"
   ]
  },
  {
   "cell_type": "code",
   "execution_count": null,
   "metadata": {
    "id": "_ZbPLZ2bcGlZ"
   },
   "outputs": [],
   "source": [
    "dic_url = 'https://raw.githubusercontent.com/park1200656/KnuSentiLex/master/KnuSentiLex/data/SentiWord_info.json'\n",
    "dic_df = pd.read_json(dic_url)\n",
    "\n",
    "dic_new = pd.DataFrame(dic_df['word'])\n",
    "dic_new['tags'] = 'NNP'\n",
    "dic_new\n",
    "\n",
    "dic_new.to_csv(\"custom_dict.txt\", index=False, header=False, sep=\"\\t\")\n",
    "\n",
    "komoran.set_user_dic(\"custom_dict.txt\")\n",
    "\n",
    "komoran.get_morphes_by_tags(twitter['Text'][0]+\"신세계\", tag_list=['NNP'])\n",
    "\n",
    "word_list = dic_df['word'].unique()\n",
    "\n",
    "twitter['sent_score'] = twitter['Text'].progress_map(lambda x:sum([dic_df[dic_df['word']==word]['polarity'].values[0] if word in word_list else 0 for word in x]))\n",
    "\n",
    "twitter['word_count'] = twitter['Text'].progress_map(lambda x:len(x))\n",
    "\n",
    "twitter['sent_index'] = twitter['sent_score']/twitter['word_count']\n",
    "\n",
    "twitter\n"
   ]
  },
  {
   "cell_type": "code",
   "execution_count": null,
   "metadata": {
    "id": "L7c12-CtcOxW"
   },
   "outputs": [],
   "source": [
    "dic_new.to_csv(\"custom_dict.txt\", index=False, header=False, sep=\"\\t\")\n",
    "\n",
    "komoran.set_user_dic(\"custom_dict.txt\")\n",
    "\n",
    "komoran.get_morphes_by_tags(twitter['Text'][0]+\"신세계\", tag_list=['NNP'])\n",
    "\n",
    "word_list = dic_df['word'].unique()\n",
    "\n",
    "twitter['sent_score'] = twitter['Text'].progress_map(lambda x:sum([dic_df[dic_df['word']==word]['polarity'].values[0] if word in word_list else 0 for word in x]))\n",
    "\n",
    "twitter['word_count'] = twitter['Text'].progress_map(lambda x:len(x))\n",
    "\n",
    "twitter['sent_index'] = twitter['sent_score']/twitter['word_count']\n",
    "\n",
    "twitter"
   ]
  },
  {
   "cell_type": "code",
   "execution_count": null,
   "metadata": {
    "id": "VSaOzO9AcLc3"
   },
   "outputs": [],
   "source": [
    "twitter.to_csv('twitter_score.csv', encoding='utf-8-sig', index=False)"
   ]
  },
  {
   "cell_type": "code",
   "execution_count": null,
   "metadata": {
    "id": "7HZLm3AudIBo"
   },
   "outputs": [],
   "source": []
  }
 ],
 "metadata": {
  "accelerator": "GPU",
  "colab": {
   "name": "knusl_01.ipynb",
   "private_outputs": true,
   "provenance": []
  },
  "gpuClass": "standard",
  "kernelspec": {
   "display_name": "Python 3 (ipykernel)",
   "language": "python",
   "name": "python3"
  },
  "language_info": {
   "codemirror_mode": {
    "name": "ipython",
    "version": 3
   },
   "file_extension": ".py",
   "mimetype": "text/x-python",
   "name": "python",
   "nbconvert_exporter": "python",
   "pygments_lexer": "ipython3",
   "version": "3.9.12"
  }
 },
 "nbformat": 4,
 "nbformat_minor": 1
}
