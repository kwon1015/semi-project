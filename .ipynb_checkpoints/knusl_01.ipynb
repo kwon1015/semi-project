{
  "nbformat": 4,
  "nbformat_minor": 0,
  "metadata": {
    "colab": {
      "name": "knusl_01.ipynb",
      "private_outputs": true,
      "provenance": []
    },
    "kernelspec": {
      "name": "python3",
      "display_name": "Python 3"
    },
    "language_info": {
      "name": "python"
    },
    "accelerator": "GPU",
    "gpuClass": "standard"
  },
  "cells": [
    {
      "cell_type": "code",
      "execution_count": null,
      "metadata": {
        "id": "0HMMKvnXbVCD"
      },
      "outputs": [],
      "source": [
        "# 구글 드라이브 마운트\n",
        "from google.colab import drive\n",
        "drive.mount('/content/drive')"
      ]
    },
    {
      "cell_type": "code",
      "source": [
        "import pandas as pd\n",
        "\n",
        "twitter=pd.read_csv('/content/drive/MyDrive/Deeply🤖/Dataset/데이터수집본(중복없음).csv')\n",
        "\n",
        "twitter"
      ],
      "metadata": {
        "id": "-nh79nrFbYoR"
      },
      "execution_count": null,
      "outputs": []
    },
    {
      "cell_type": "code",
      "source": [
        "import re\n",
        "\n",
        "pattern1 = '[-=+,#/\\?:;^$.A*\"~%!\\\\\\n\\r\\t▼♣§☆♡´∀｀ﾉ♥▲�▶＊━“”]'"
      ],
      "metadata": {
        "id": "Mw5vby55b5U7"
      },
      "execution_count": null,
      "outputs": []
    },
    {
      "cell_type": "code",
      "source": [
        "!pip install PyKomoran"
      ],
      "metadata": {
        "id": "ESch64bub9ws"
      },
      "execution_count": null,
      "outputs": []
    },
    {
      "cell_type": "code",
      "source": [
        "# 형태소분석기 불러오기\n",
        "from PyKomoran import *\n",
        "\n",
        "# 코모란을 사용하기 위한 객체 만들기\n",
        "komoran = Komoran(\"EXP\")"
      ],
      "metadata": {
        "id": "g013Cnk2cAC9"
      },
      "execution_count": null,
      "outputs": []
    },
    {
      "cell_type": "code",
      "source": [
        "from tqdm import tqdm\n",
        "tqdm.pandas()\n",
        "\n",
        "twitter['Text'] = twitter['Text'].progress_map(lambda x:re.sub(pattern1, '', x).strip())\n",
        "\n",
        "twitter['Text']"
      ],
      "metadata": {
        "id": "9wLFtoYscC8a"
      },
      "execution_count": null,
      "outputs": []
    },
    {
      "cell_type": "code",
      "source": [
        "dic_url = 'https://raw.githubusercontent.com/park1200656/KnuSentiLex/master/KnuSentiLex/data/SentiWord_info.json'\n",
        "dic_df = pd.read_json(dic_url)\n",
        "\n",
        "dic_new = pd.DataFrame(dic_df['word'])\n",
        "dic_new['tags'] = 'NNP'\n",
        "dic_new\n",
        "\n",
        "dic_new.to_csv(\"custom_dict.txt\", index=False, header=False, sep=\"\\t\")\n",
        "\n",
        "komoran.set_user_dic(\"custom_dict.txt\")\n",
        "\n",
        "komoran.get_morphes_by_tags(twitter['Text'][0]+\"신세계\", tag_list=['NNP'])\n",
        "\n",
        "word_list = dic_df['word'].unique()\n",
        "\n",
        "twitter['sent_score'] = twitter['Text'].progress_map(lambda x:sum([dic_df[dic_df['word']==word]['polarity'].values[0] if word in word_list else 0 for word in x]))\n",
        "\n",
        "twitter['word_count'] = twitter['Text'].progress_map(lambda x:len(x))\n",
        "\n",
        "twitter['sent_index'] = twitter['sent_score']/twitter['word_count']\n",
        "\n",
        "twitter\n"
      ],
      "metadata": {
        "id": "_ZbPLZ2bcGlZ"
      },
      "execution_count": null,
      "outputs": []
    },
    {
      "cell_type": "code",
      "source": [
        "dic_new.to_csv(\"custom_dict.txt\", index=False, header=False, sep=\"\\t\")\n",
        "\n",
        "komoran.set_user_dic(\"custom_dict.txt\")\n",
        "\n",
        "komoran.get_morphes_by_tags(twitter['Text'][0]+\"신세계\", tag_list=['NNP'])\n",
        "\n",
        "word_list = dic_df['word'].unique()\n",
        "\n",
        "twitter['sent_score'] = twitter['Text'].progress_map(lambda x:sum([dic_df[dic_df['word']==word]['polarity'].values[0] if word in word_list else 0 for word in x]))\n",
        "\n",
        "twitter['word_count'] = twitter['Text'].progress_map(lambda x:len(x))\n",
        "\n",
        "twitter['sent_index'] = twitter['sent_score']/twitter['word_count']\n",
        "\n",
        "twitter"
      ],
      "metadata": {
        "id": "L7c12-CtcOxW"
      },
      "execution_count": null,
      "outputs": []
    },
    {
      "cell_type": "code",
      "source": [
        "twitter.to_csv('twitter_score.csv', encoding='utf-8-sig', index=False)"
      ],
      "metadata": {
        "id": "VSaOzO9AcLc3"
      },
      "execution_count": null,
      "outputs": []
    },
    {
      "cell_type": "code",
      "source": [
        ""
      ],
      "metadata": {
        "id": "7HZLm3AudIBo"
      },
      "execution_count": null,
      "outputs": []
    }
  ]
}