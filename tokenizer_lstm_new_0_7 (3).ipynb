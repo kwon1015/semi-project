{
  "nbformat": 4,
  "nbformat_minor": 0,
  "metadata": {
    "colab": {
      "name": "tokenizer_lstm_new_0.7.ipynb",
      "provenance": [],
      "collapsed_sections": [],
      "machine_shape": "hm"
    },
    "kernelspec": {
      "name": "python3",
      "display_name": "Python 3"
    },
    "language_info": {
      "name": "python"
    },
    "accelerator": "GPU",
    "gpuClass": "standard"
  },
  "cells": [
    {
      "cell_type": "code",
      "execution_count": 556,
      "metadata": {
        "id": "iFgokCebimUi"
      },
      "outputs": [],
      "source": [
        "import pandas as pd\n",
        "import numpy as np\n",
        "# mecab1 = pd.read_csv('/content/데이터수집본(중복없음) (1).csv')"
      ]
    },
    {
      "cell_type": "code",
      "source": [
        "test1=pd.read_csv('/content/finaltest11.csv')"
      ],
      "metadata": {
        "id": "72chn-IpBI_7"
      },
      "execution_count": 557,
      "outputs": []
    },
    {
      "cell_type": "code",
      "source": [
        "test1[:8000]"
      ],
      "metadata": {
        "colab": {
          "base_uri": "https://localhost:8080/",
          "height": 424
        },
        "id": "adtRI_aQkk37",
        "outputId": "4368d7f7-0364-4f80-a054-e180ea9cea41"
      },
      "execution_count": 596,
      "outputs": [
        {
          "output_type": "execute_result",
          "data": {
            "text/plain": [
              "      Unnamed: 0                                             tokens  tone  \\\n",
              "0              0  우리 강아지 애기 자꾸 내밀어서 충치 구강 구조 문제 있으면 밀고 있는대서 덜덜 떨...     0   \n",
              "1              1  서울 되련 뭣같 이돈 뭣같 지옥런 새끼 뭣같 산불 보러 간다 했으면서 멀쩡한 컨트롤...    -2   \n",
              "2              2                           지형 높아서 침수 되고 오고 여름 덥고 하아    -1   \n",
              "3              3  진짜 살다 살다 재난 상황 어떻게 복구 다음 재난 어떻게 대비 할지 대한 뉴스 아니...     0   \n",
              "4              4    여러분 대구 날씨 어떤 가요 여기 하늘 뚫린 같은데 지방 폭염 주의보 믿기지가 않어요    -1   \n",
              "...          ...                                                ...   ...   \n",
              "7995        7995  폭우 쏟아져 강남역 일대 물바다 시간 사이 실종 되었는데 뚜껑 폭발 열린 한강 이어...    -1   \n",
              "7996        7996                                   지겹게 이어지던 산불 가득하다    -1   \n",
              "7997        7997  장마 패턴 폭우 폭염 폭우 반복 되는 형태 최근 수년 사이 과거 달라졌다 온난화 대...    -1   \n",
              "7998        7998  트위터 보고 진짜 게으른 사람 게으름 탈출 읽었는데 저자 얘기 공감 된다 현실 직면...     0   \n",
              "7999        7999  속초 산불 속초시 전날 제주도 여행 떠났다가 당일 비행기 없어 다음 비행기 부랴부랴...    -1   \n",
              "\n",
              "                                                   word  \n",
              "0     [78, 1906, 1540, 1907, 2628, 113, 2629, 2630, ...  \n",
              "1     [25, 10, 787, 246, 32, 24, 583, 246, 32, 896, ...  \n",
              "2     [2891, 1230, 363, 7, 10, 4, 104, 4, 259, 2634,...  \n",
              "3     [63, 154, 11, 154, 11, 39, 38, 388, 66, 43, 39...  \n",
              "4     [158, 1612, 175, 227, 976, 150, 724, 1770, 32,...  \n",
              "...                                                 ...  \n",
              "7995  [6, 3585, 191, 1401, 3586, 116, 920, 387, 10, ...  \n",
              "7996                [1265, 20, 769, 17, 23, 980, 2, 11]  \n",
              "7997  [300, 1088, 6, 28, 6, 663, 10, 3, 889, 441, 11...  \n",
              "7998  [425, 31, 4, 63, 1923, 45, 1924, 759, 775, 13,...  \n",
              "7999  ['속초', '산불', '속', '초시', '전날', '제주', '도', '여행',...  \n",
              "\n",
              "[8000 rows x 4 columns]"
            ],
            "text/html": [
              "\n",
              "  <div id=\"df-0aa4360c-e0c2-4a86-8868-85b4862439db\">\n",
              "    <div class=\"colab-df-container\">\n",
              "      <div>\n",
              "<style scoped>\n",
              "    .dataframe tbody tr th:only-of-type {\n",
              "        vertical-align: middle;\n",
              "    }\n",
              "\n",
              "    .dataframe tbody tr th {\n",
              "        vertical-align: top;\n",
              "    }\n",
              "\n",
              "    .dataframe thead th {\n",
              "        text-align: right;\n",
              "    }\n",
              "</style>\n",
              "<table border=\"1\" class=\"dataframe\">\n",
              "  <thead>\n",
              "    <tr style=\"text-align: right;\">\n",
              "      <th></th>\n",
              "      <th>Unnamed: 0</th>\n",
              "      <th>tokens</th>\n",
              "      <th>tone</th>\n",
              "      <th>word</th>\n",
              "    </tr>\n",
              "  </thead>\n",
              "  <tbody>\n",
              "    <tr>\n",
              "      <th>0</th>\n",
              "      <td>0</td>\n",
              "      <td>우리 강아지 애기 자꾸 내밀어서 충치 구강 구조 문제 있으면 밀고 있는대서 덜덜 떨...</td>\n",
              "      <td>0</td>\n",
              "      <td>[78, 1906, 1540, 1907, 2628, 113, 2629, 2630, ...</td>\n",
              "    </tr>\n",
              "    <tr>\n",
              "      <th>1</th>\n",
              "      <td>1</td>\n",
              "      <td>서울 되련 뭣같 이돈 뭣같 지옥런 새끼 뭣같 산불 보러 간다 했으면서 멀쩡한 컨트롤...</td>\n",
              "      <td>-2</td>\n",
              "      <td>[25, 10, 787, 246, 32, 24, 583, 246, 32, 896, ...</td>\n",
              "    </tr>\n",
              "    <tr>\n",
              "      <th>2</th>\n",
              "      <td>2</td>\n",
              "      <td>지형 높아서 침수 되고 오고 여름 덥고 하아</td>\n",
              "      <td>-1</td>\n",
              "      <td>[2891, 1230, 363, 7, 10, 4, 104, 4, 259, 2634,...</td>\n",
              "    </tr>\n",
              "    <tr>\n",
              "      <th>3</th>\n",
              "      <td>3</td>\n",
              "      <td>진짜 살다 살다 재난 상황 어떻게 복구 다음 재난 어떻게 대비 할지 대한 뉴스 아니...</td>\n",
              "      <td>0</td>\n",
              "      <td>[63, 154, 11, 154, 11, 39, 38, 388, 66, 43, 39...</td>\n",
              "    </tr>\n",
              "    <tr>\n",
              "      <th>4</th>\n",
              "      <td>4</td>\n",
              "      <td>여러분 대구 날씨 어떤 가요 여기 하늘 뚫린 같은데 지방 폭염 주의보 믿기지가 않어요</td>\n",
              "      <td>-1</td>\n",
              "      <td>[158, 1612, 175, 227, 976, 150, 724, 1770, 32,...</td>\n",
              "    </tr>\n",
              "    <tr>\n",
              "      <th>...</th>\n",
              "      <td>...</td>\n",
              "      <td>...</td>\n",
              "      <td>...</td>\n",
              "      <td>...</td>\n",
              "    </tr>\n",
              "    <tr>\n",
              "      <th>7995</th>\n",
              "      <td>7995</td>\n",
              "      <td>폭우 쏟아져 강남역 일대 물바다 시간 사이 실종 되었는데 뚜껑 폭발 열린 한강 이어...</td>\n",
              "      <td>-1</td>\n",
              "      <td>[6, 3585, 191, 1401, 3586, 116, 920, 387, 10, ...</td>\n",
              "    </tr>\n",
              "    <tr>\n",
              "      <th>7996</th>\n",
              "      <td>7996</td>\n",
              "      <td>지겹게 이어지던 산불 가득하다</td>\n",
              "      <td>-1</td>\n",
              "      <td>[1265, 20, 769, 17, 23, 980, 2, 11]</td>\n",
              "    </tr>\n",
              "    <tr>\n",
              "      <th>7997</th>\n",
              "      <td>7997</td>\n",
              "      <td>장마 패턴 폭우 폭염 폭우 반복 되는 형태 최근 수년 사이 과거 달라졌다 온난화 대...</td>\n",
              "      <td>-1</td>\n",
              "      <td>[300, 1088, 6, 28, 6, 663, 10, 3, 889, 441, 11...</td>\n",
              "    </tr>\n",
              "    <tr>\n",
              "      <th>7998</th>\n",
              "      <td>7998</td>\n",
              "      <td>트위터 보고 진짜 게으른 사람 게으름 탈출 읽었는데 저자 얘기 공감 된다 현실 직면...</td>\n",
              "      <td>0</td>\n",
              "      <td>[425, 31, 4, 63, 1923, 45, 1924, 759, 775, 13,...</td>\n",
              "    </tr>\n",
              "    <tr>\n",
              "      <th>7999</th>\n",
              "      <td>7999</td>\n",
              "      <td>속초 산불 속초시 전날 제주도 여행 떠났다가 당일 비행기 없어 다음 비행기 부랴부랴...</td>\n",
              "      <td>-1</td>\n",
              "      <td>['속초', '산불', '속', '초시', '전날', '제주', '도', '여행',...</td>\n",
              "    </tr>\n",
              "  </tbody>\n",
              "</table>\n",
              "<p>8000 rows × 4 columns</p>\n",
              "</div>\n",
              "      <button class=\"colab-df-convert\" onclick=\"convertToInteractive('df-0aa4360c-e0c2-4a86-8868-85b4862439db')\"\n",
              "              title=\"Convert this dataframe to an interactive table.\"\n",
              "              style=\"display:none;\">\n",
              "        \n",
              "  <svg xmlns=\"http://www.w3.org/2000/svg\" height=\"24px\"viewBox=\"0 0 24 24\"\n",
              "       width=\"24px\">\n",
              "    <path d=\"M0 0h24v24H0V0z\" fill=\"none\"/>\n",
              "    <path d=\"M18.56 5.44l.94 2.06.94-2.06 2.06-.94-2.06-.94-.94-2.06-.94 2.06-2.06.94zm-11 1L8.5 8.5l.94-2.06 2.06-.94-2.06-.94L8.5 2.5l-.94 2.06-2.06.94zm10 10l.94 2.06.94-2.06 2.06-.94-2.06-.94-.94-2.06-.94 2.06-2.06.94z\"/><path d=\"M17.41 7.96l-1.37-1.37c-.4-.4-.92-.59-1.43-.59-.52 0-1.04.2-1.43.59L10.3 9.45l-7.72 7.72c-.78.78-.78 2.05 0 2.83L4 21.41c.39.39.9.59 1.41.59.51 0 1.02-.2 1.41-.59l7.78-7.78 2.81-2.81c.8-.78.8-2.07 0-2.86zM5.41 20L4 18.59l7.72-7.72 1.47 1.35L5.41 20z\"/>\n",
              "  </svg>\n",
              "      </button>\n",
              "      \n",
              "  <style>\n",
              "    .colab-df-container {\n",
              "      display:flex;\n",
              "      flex-wrap:wrap;\n",
              "      gap: 12px;\n",
              "    }\n",
              "\n",
              "    .colab-df-convert {\n",
              "      background-color: #E8F0FE;\n",
              "      border: none;\n",
              "      border-radius: 50%;\n",
              "      cursor: pointer;\n",
              "      display: none;\n",
              "      fill: #1967D2;\n",
              "      height: 32px;\n",
              "      padding: 0 0 0 0;\n",
              "      width: 32px;\n",
              "    }\n",
              "\n",
              "    .colab-df-convert:hover {\n",
              "      background-color: #E2EBFA;\n",
              "      box-shadow: 0px 1px 2px rgba(60, 64, 67, 0.3), 0px 1px 3px 1px rgba(60, 64, 67, 0.15);\n",
              "      fill: #174EA6;\n",
              "    }\n",
              "\n",
              "    [theme=dark] .colab-df-convert {\n",
              "      background-color: #3B4455;\n",
              "      fill: #D2E3FC;\n",
              "    }\n",
              "\n",
              "    [theme=dark] .colab-df-convert:hover {\n",
              "      background-color: #434B5C;\n",
              "      box-shadow: 0px 1px 3px 1px rgba(0, 0, 0, 0.15);\n",
              "      filter: drop-shadow(0px 1px 2px rgba(0, 0, 0, 0.3));\n",
              "      fill: #FFFFFF;\n",
              "    }\n",
              "  </style>\n",
              "\n",
              "      <script>\n",
              "        const buttonEl =\n",
              "          document.querySelector('#df-0aa4360c-e0c2-4a86-8868-85b4862439db button.colab-df-convert');\n",
              "        buttonEl.style.display =\n",
              "          google.colab.kernel.accessAllowed ? 'block' : 'none';\n",
              "\n",
              "        async function convertToInteractive(key) {\n",
              "          const element = document.querySelector('#df-0aa4360c-e0c2-4a86-8868-85b4862439db');\n",
              "          const dataTable =\n",
              "            await google.colab.kernel.invokeFunction('convertToInteractive',\n",
              "                                                     [key], {});\n",
              "          if (!dataTable) return;\n",
              "\n",
              "          const docLinkHtml = 'Like what you see? Visit the ' +\n",
              "            '<a target=\"_blank\" href=https://colab.research.google.com/notebooks/data_table.ipynb>data table notebook</a>'\n",
              "            + ' to learn more about interactive tables.';\n",
              "          element.innerHTML = '';\n",
              "          dataTable['output_type'] = 'display_data';\n",
              "          await google.colab.output.renderOutput(dataTable, element);\n",
              "          const docLink = document.createElement('div');\n",
              "          docLink.innerHTML = docLinkHtml;\n",
              "          element.appendChild(docLink);\n",
              "        }\n",
              "      </script>\n",
              "    </div>\n",
              "  </div>\n",
              "  "
            ]
          },
          "metadata": {},
          "execution_count": 596
        }
      ]
    },
    {
      "cell_type": "code",
      "source": [
        "test2=test1[:5600]"
      ],
      "metadata": {
        "id": "I7hZsVOfBiQY"
      },
      "execution_count": 559,
      "outputs": []
    },
    {
      "cell_type": "code",
      "source": [
        "test3=test1[5600:7999]"
      ],
      "metadata": {
        "id": "U6pq48_UBlqV"
      },
      "execution_count": 560,
      "outputs": []
    },
    {
      "cell_type": "code",
      "source": [
        "mecab2=mecab1[:7500]"
      ],
      "metadata": {
        "id": "HVijKltmlR1Q"
      },
      "execution_count": 561,
      "outputs": []
    },
    {
      "cell_type": "code",
      "source": [
        "mecab3=mecab1[7500:]"
      ],
      "metadata": {
        "id": "2AJgHwoalWCL"
      },
      "execution_count": 562,
      "outputs": []
    },
    {
      "cell_type": "code",
      "source": [
        "mecab3"
      ],
      "metadata": {
        "colab": {
          "base_uri": "https://localhost:8080/",
          "height": 49
        },
        "id": "Z3ox1ZialZd0",
        "outputId": "bda5b8bb-8d5e-44b6-d6b1-d87e48cf40db"
      },
      "execution_count": 563,
      "outputs": [
        {
          "output_type": "execute_result",
          "data": {
            "text/plain": [
              "Empty DataFrame\n",
              "Columns: [Unnamed: 0, Unnamed: 0.1, ID, Text, Date, Key, duplicates]\n",
              "Index: []"
            ],
            "text/html": [
              "\n",
              "  <div id=\"df-df089781-fd6d-4484-be5d-6f7b4a6fceaa\">\n",
              "    <div class=\"colab-df-container\">\n",
              "      <div>\n",
              "<style scoped>\n",
              "    .dataframe tbody tr th:only-of-type {\n",
              "        vertical-align: middle;\n",
              "    }\n",
              "\n",
              "    .dataframe tbody tr th {\n",
              "        vertical-align: top;\n",
              "    }\n",
              "\n",
              "    .dataframe thead th {\n",
              "        text-align: right;\n",
              "    }\n",
              "</style>\n",
              "<table border=\"1\" class=\"dataframe\">\n",
              "  <thead>\n",
              "    <tr style=\"text-align: right;\">\n",
              "      <th></th>\n",
              "      <th>Unnamed: 0</th>\n",
              "      <th>Unnamed: 0.1</th>\n",
              "      <th>ID</th>\n",
              "      <th>Text</th>\n",
              "      <th>Date</th>\n",
              "      <th>Key</th>\n",
              "      <th>duplicates</th>\n",
              "    </tr>\n",
              "  </thead>\n",
              "  <tbody>\n",
              "  </tbody>\n",
              "</table>\n",
              "</div>\n",
              "      <button class=\"colab-df-convert\" onclick=\"convertToInteractive('df-df089781-fd6d-4484-be5d-6f7b4a6fceaa')\"\n",
              "              title=\"Convert this dataframe to an interactive table.\"\n",
              "              style=\"display:none;\">\n",
              "        \n",
              "  <svg xmlns=\"http://www.w3.org/2000/svg\" height=\"24px\"viewBox=\"0 0 24 24\"\n",
              "       width=\"24px\">\n",
              "    <path d=\"M0 0h24v24H0V0z\" fill=\"none\"/>\n",
              "    <path d=\"M18.56 5.44l.94 2.06.94-2.06 2.06-.94-2.06-.94-.94-2.06-.94 2.06-2.06.94zm-11 1L8.5 8.5l.94-2.06 2.06-.94-2.06-.94L8.5 2.5l-.94 2.06-2.06.94zm10 10l.94 2.06.94-2.06 2.06-.94-2.06-.94-.94-2.06-.94 2.06-2.06.94z\"/><path d=\"M17.41 7.96l-1.37-1.37c-.4-.4-.92-.59-1.43-.59-.52 0-1.04.2-1.43.59L10.3 9.45l-7.72 7.72c-.78.78-.78 2.05 0 2.83L4 21.41c.39.39.9.59 1.41.59.51 0 1.02-.2 1.41-.59l7.78-7.78 2.81-2.81c.8-.78.8-2.07 0-2.86zM5.41 20L4 18.59l7.72-7.72 1.47 1.35L5.41 20z\"/>\n",
              "  </svg>\n",
              "      </button>\n",
              "      \n",
              "  <style>\n",
              "    .colab-df-container {\n",
              "      display:flex;\n",
              "      flex-wrap:wrap;\n",
              "      gap: 12px;\n",
              "    }\n",
              "\n",
              "    .colab-df-convert {\n",
              "      background-color: #E8F0FE;\n",
              "      border: none;\n",
              "      border-radius: 50%;\n",
              "      cursor: pointer;\n",
              "      display: none;\n",
              "      fill: #1967D2;\n",
              "      height: 32px;\n",
              "      padding: 0 0 0 0;\n",
              "      width: 32px;\n",
              "    }\n",
              "\n",
              "    .colab-df-convert:hover {\n",
              "      background-color: #E2EBFA;\n",
              "      box-shadow: 0px 1px 2px rgba(60, 64, 67, 0.3), 0px 1px 3px 1px rgba(60, 64, 67, 0.15);\n",
              "      fill: #174EA6;\n",
              "    }\n",
              "\n",
              "    [theme=dark] .colab-df-convert {\n",
              "      background-color: #3B4455;\n",
              "      fill: #D2E3FC;\n",
              "    }\n",
              "\n",
              "    [theme=dark] .colab-df-convert:hover {\n",
              "      background-color: #434B5C;\n",
              "      box-shadow: 0px 1px 3px 1px rgba(0, 0, 0, 0.15);\n",
              "      filter: drop-shadow(0px 1px 2px rgba(0, 0, 0, 0.3));\n",
              "      fill: #FFFFFF;\n",
              "    }\n",
              "  </style>\n",
              "\n",
              "      <script>\n",
              "        const buttonEl =\n",
              "          document.querySelector('#df-df089781-fd6d-4484-be5d-6f7b4a6fceaa button.colab-df-convert');\n",
              "        buttonEl.style.display =\n",
              "          google.colab.kernel.accessAllowed ? 'block' : 'none';\n",
              "\n",
              "        async function convertToInteractive(key) {\n",
              "          const element = document.querySelector('#df-df089781-fd6d-4484-be5d-6f7b4a6fceaa');\n",
              "          const dataTable =\n",
              "            await google.colab.kernel.invokeFunction('convertToInteractive',\n",
              "                                                     [key], {});\n",
              "          if (!dataTable) return;\n",
              "\n",
              "          const docLinkHtml = 'Like what you see? Visit the ' +\n",
              "            '<a target=\"_blank\" href=https://colab.research.google.com/notebooks/data_table.ipynb>data table notebook</a>'\n",
              "            + ' to learn more about interactive tables.';\n",
              "          element.innerHTML = '';\n",
              "          dataTable['output_type'] = 'display_data';\n",
              "          await google.colab.output.renderOutput(dataTable, element);\n",
              "          const docLink = document.createElement('div');\n",
              "          docLink.innerHTML = docLinkHtml;\n",
              "          element.appendChild(docLink);\n",
              "        }\n",
              "      </script>\n",
              "    </div>\n",
              "  </div>\n",
              "  "
            ]
          },
          "metadata": {},
          "execution_count": 563
        }
      ]
    },
    {
      "cell_type": "code",
      "source": [
        "from tensorflow.keras.preprocessing.text import Tokenizer\n",
        "import os\n",
        "import pickle\n",
        "\n",
        "tokenizer_name = 'keras_naver_review_tokenizer.pickle'\n",
        "save_path = os.path.join(os.getcwd(), tokenizer_name)\n",
        "\n",
        "max_words = 35000\n",
        "tokenizer = Tokenizer(num_words=max_words, oov_token = True)\n",
        "tokenizer.fit_on_texts(test2.word)\n",
        "test2.word = tokenizer.texts_to_sequences(test2.word)\n",
        "test3.word = tokenizer.texts_to_sequences(test3.word)\n",
        "\n",
        "with open(save_path, 'wb') as f:\n",
        "    pickle.dump(tokenizer, f, protocol=pickle.HIGHEST_PROTOCOL)\n",
        "\n",
        "test2.head()"
      ],
      "metadata": {
        "colab": {
          "base_uri": "https://localhost:8080/",
          "height": 316
        },
        "id": "CL4dt_w7jzn2",
        "outputId": "0837a42f-d1f8-452a-9a1d-e7e124c46c10"
      },
      "execution_count": 564,
      "outputs": [
        {
          "output_type": "stream",
          "name": "stderr",
          "text": [
            "/usr/local/lib/python3.7/dist-packages/pandas/core/generic.py:5516: SettingWithCopyWarning: \n",
            "A value is trying to be set on a copy of a slice from a DataFrame.\n",
            "Try using .loc[row_indexer,col_indexer] = value instead\n",
            "\n",
            "See the caveats in the documentation: https://pandas.pydata.org/pandas-docs/stable/user_guide/indexing.html#returning-a-view-versus-a-copy\n",
            "  self[name] = value\n"
          ]
        },
        {
          "output_type": "execute_result",
          "data": {
            "text/plain": [
              "   Unnamed: 0                                             tokens  tone  \\\n",
              "0           0  우리 강아지 애기 자꾸 내밀어서 충치 구강 구조 문제 있으면 밀고 있는대서 덜덜 떨...     0   \n",
              "1           1  서울 되련 뭣같 이돈 뭣같 지옥런 새끼 뭣같 산불 보러 간다 했으면서 멀쩡한 컨트롤...    -2   \n",
              "2           2                           지형 높아서 침수 되고 오고 여름 덥고 하아    -1   \n",
              "3           3  진짜 살다 살다 재난 상황 어떻게 복구 다음 재난 어떻게 대비 할지 대한 뉴스 아니...     0   \n",
              "4           4    여러분 대구 날씨 어떤 가요 여기 하늘 뚫린 같은데 지방 폭염 주의보 믿기지가 않어요    -1   \n",
              "\n",
              "                                                word  \n",
              "0  [78, 1906, 1540, 1907, 2628, 113, 2629, 2630, ...  \n",
              "1  [25, 10, 787, 246, 32, 24, 583, 246, 32, 896, ...  \n",
              "2  [2891, 1230, 363, 7, 10, 4, 104, 4, 259, 2634,...  \n",
              "3  [63, 154, 11, 154, 11, 39, 38, 388, 66, 43, 39...  \n",
              "4  [158, 1612, 175, 227, 976, 150, 724, 1770, 32,...  "
            ],
            "text/html": [
              "\n",
              "  <div id=\"df-c2b07d43-b162-46c7-b9bb-6901d5a37fc6\">\n",
              "    <div class=\"colab-df-container\">\n",
              "      <div>\n",
              "<style scoped>\n",
              "    .dataframe tbody tr th:only-of-type {\n",
              "        vertical-align: middle;\n",
              "    }\n",
              "\n",
              "    .dataframe tbody tr th {\n",
              "        vertical-align: top;\n",
              "    }\n",
              "\n",
              "    .dataframe thead th {\n",
              "        text-align: right;\n",
              "    }\n",
              "</style>\n",
              "<table border=\"1\" class=\"dataframe\">\n",
              "  <thead>\n",
              "    <tr style=\"text-align: right;\">\n",
              "      <th></th>\n",
              "      <th>Unnamed: 0</th>\n",
              "      <th>tokens</th>\n",
              "      <th>tone</th>\n",
              "      <th>word</th>\n",
              "    </tr>\n",
              "  </thead>\n",
              "  <tbody>\n",
              "    <tr>\n",
              "      <th>0</th>\n",
              "      <td>0</td>\n",
              "      <td>우리 강아지 애기 자꾸 내밀어서 충치 구강 구조 문제 있으면 밀고 있는대서 덜덜 떨...</td>\n",
              "      <td>0</td>\n",
              "      <td>[78, 1906, 1540, 1907, 2628, 113, 2629, 2630, ...</td>\n",
              "    </tr>\n",
              "    <tr>\n",
              "      <th>1</th>\n",
              "      <td>1</td>\n",
              "      <td>서울 되련 뭣같 이돈 뭣같 지옥런 새끼 뭣같 산불 보러 간다 했으면서 멀쩡한 컨트롤...</td>\n",
              "      <td>-2</td>\n",
              "      <td>[25, 10, 787, 246, 32, 24, 583, 246, 32, 896, ...</td>\n",
              "    </tr>\n",
              "    <tr>\n",
              "      <th>2</th>\n",
              "      <td>2</td>\n",
              "      <td>지형 높아서 침수 되고 오고 여름 덥고 하아</td>\n",
              "      <td>-1</td>\n",
              "      <td>[2891, 1230, 363, 7, 10, 4, 104, 4, 259, 2634,...</td>\n",
              "    </tr>\n",
              "    <tr>\n",
              "      <th>3</th>\n",
              "      <td>3</td>\n",
              "      <td>진짜 살다 살다 재난 상황 어떻게 복구 다음 재난 어떻게 대비 할지 대한 뉴스 아니...</td>\n",
              "      <td>0</td>\n",
              "      <td>[63, 154, 11, 154, 11, 39, 38, 388, 66, 43, 39...</td>\n",
              "    </tr>\n",
              "    <tr>\n",
              "      <th>4</th>\n",
              "      <td>4</td>\n",
              "      <td>여러분 대구 날씨 어떤 가요 여기 하늘 뚫린 같은데 지방 폭염 주의보 믿기지가 않어요</td>\n",
              "      <td>-1</td>\n",
              "      <td>[158, 1612, 175, 227, 976, 150, 724, 1770, 32,...</td>\n",
              "    </tr>\n",
              "  </tbody>\n",
              "</table>\n",
              "</div>\n",
              "      <button class=\"colab-df-convert\" onclick=\"convertToInteractive('df-c2b07d43-b162-46c7-b9bb-6901d5a37fc6')\"\n",
              "              title=\"Convert this dataframe to an interactive table.\"\n",
              "              style=\"display:none;\">\n",
              "        \n",
              "  <svg xmlns=\"http://www.w3.org/2000/svg\" height=\"24px\"viewBox=\"0 0 24 24\"\n",
              "       width=\"24px\">\n",
              "    <path d=\"M0 0h24v24H0V0z\" fill=\"none\"/>\n",
              "    <path d=\"M18.56 5.44l.94 2.06.94-2.06 2.06-.94-2.06-.94-.94-2.06-.94 2.06-2.06.94zm-11 1L8.5 8.5l.94-2.06 2.06-.94-2.06-.94L8.5 2.5l-.94 2.06-2.06.94zm10 10l.94 2.06.94-2.06 2.06-.94-2.06-.94-.94-2.06-.94 2.06-2.06.94z\"/><path d=\"M17.41 7.96l-1.37-1.37c-.4-.4-.92-.59-1.43-.59-.52 0-1.04.2-1.43.59L10.3 9.45l-7.72 7.72c-.78.78-.78 2.05 0 2.83L4 21.41c.39.39.9.59 1.41.59.51 0 1.02-.2 1.41-.59l7.78-7.78 2.81-2.81c.8-.78.8-2.07 0-2.86zM5.41 20L4 18.59l7.72-7.72 1.47 1.35L5.41 20z\"/>\n",
              "  </svg>\n",
              "      </button>\n",
              "      \n",
              "  <style>\n",
              "    .colab-df-container {\n",
              "      display:flex;\n",
              "      flex-wrap:wrap;\n",
              "      gap: 12px;\n",
              "    }\n",
              "\n",
              "    .colab-df-convert {\n",
              "      background-color: #E8F0FE;\n",
              "      border: none;\n",
              "      border-radius: 50%;\n",
              "      cursor: pointer;\n",
              "      display: none;\n",
              "      fill: #1967D2;\n",
              "      height: 32px;\n",
              "      padding: 0 0 0 0;\n",
              "      width: 32px;\n",
              "    }\n",
              "\n",
              "    .colab-df-convert:hover {\n",
              "      background-color: #E2EBFA;\n",
              "      box-shadow: 0px 1px 2px rgba(60, 64, 67, 0.3), 0px 1px 3px 1px rgba(60, 64, 67, 0.15);\n",
              "      fill: #174EA6;\n",
              "    }\n",
              "\n",
              "    [theme=dark] .colab-df-convert {\n",
              "      background-color: #3B4455;\n",
              "      fill: #D2E3FC;\n",
              "    }\n",
              "\n",
              "    [theme=dark] .colab-df-convert:hover {\n",
              "      background-color: #434B5C;\n",
              "      box-shadow: 0px 1px 3px 1px rgba(0, 0, 0, 0.15);\n",
              "      filter: drop-shadow(0px 1px 2px rgba(0, 0, 0, 0.3));\n",
              "      fill: #FFFFFF;\n",
              "    }\n",
              "  </style>\n",
              "\n",
              "      <script>\n",
              "        const buttonEl =\n",
              "          document.querySelector('#df-c2b07d43-b162-46c7-b9bb-6901d5a37fc6 button.colab-df-convert');\n",
              "        buttonEl.style.display =\n",
              "          google.colab.kernel.accessAllowed ? 'block' : 'none';\n",
              "\n",
              "        async function convertToInteractive(key) {\n",
              "          const element = document.querySelector('#df-c2b07d43-b162-46c7-b9bb-6901d5a37fc6');\n",
              "          const dataTable =\n",
              "            await google.colab.kernel.invokeFunction('convertToInteractive',\n",
              "                                                     [key], {});\n",
              "          if (!dataTable) return;\n",
              "\n",
              "          const docLinkHtml = 'Like what you see? Visit the ' +\n",
              "            '<a target=\"_blank\" href=https://colab.research.google.com/notebooks/data_table.ipynb>data table notebook</a>'\n",
              "            + ' to learn more about interactive tables.';\n",
              "          element.innerHTML = '';\n",
              "          dataTable['output_type'] = 'display_data';\n",
              "          await google.colab.output.renderOutput(dataTable, element);\n",
              "          const docLink = document.createElement('div');\n",
              "          docLink.innerHTML = docLinkHtml;\n",
              "          element.appendChild(docLink);\n",
              "        }\n",
              "      </script>\n",
              "    </div>\n",
              "  </div>\n",
              "  "
            ]
          },
          "metadata": {},
          "execution_count": 564
        }
      ]
    },
    {
      "cell_type": "code",
      "source": [
        "X_train = test2.word\n",
        "Y_train = test2.tone\n",
        "\n",
        "X_test = test3.word\n",
        "Y_test = test3.tone\n",
        "\n",
        "print('X_train shape: ', X_train.shape)\n",
        "print('Y_train shape: ', Y_train.shape)\n",
        "print('\\nX_test shape: ', X_test.shape)\n",
        "print('Y_test shape: ', Y_test.shape)"
      ],
      "metadata": {
        "colab": {
          "base_uri": "https://localhost:8080/"
        },
        "id": "uf6V7fVGkELE",
        "outputId": "086fc4d3-872b-4014-b428-a7fd8aa7ded9"
      },
      "execution_count": 565,
      "outputs": [
        {
          "output_type": "stream",
          "name": "stdout",
          "text": [
            "X_train shape:  (5600,)\n",
            "Y_train shape:  (5600,)\n",
            "\n",
            "X_test shape:  (2399,)\n",
            "Y_test shape:  (2399,)\n"
          ]
        }
      ]
    },
    {
      "cell_type": "code",
      "source": [
        "X_train.shape"
      ],
      "metadata": {
        "colab": {
          "base_uri": "https://localhost:8080/"
        },
        "id": "EyAfbhj0sJIt",
        "outputId": "a3ea5b01-d7c6-434f-b439-a137902b315c"
      },
      "execution_count": 566,
      "outputs": [
        {
          "output_type": "execute_result",
          "data": {
            "text/plain": [
              "(5600,)"
            ]
          },
          "metadata": {},
          "execution_count": 566
        }
      ]
    },
    {
      "cell_type": "code",
      "source": [
        "len(X_train[5000])"
      ],
      "metadata": {
        "colab": {
          "base_uri": "https://localhost:8080/"
        },
        "id": "psNe6CigsMrk",
        "outputId": "3199a18d-d9e8-4c39-97d6-5612bde082d8"
      },
      "execution_count": 567,
      "outputs": [
        {
          "output_type": "execute_result",
          "data": {
            "text/plain": [
              "43"
            ]
          },
          "metadata": {},
          "execution_count": 567
        }
      ]
    },
    {
      "cell_type": "code",
      "source": [
        "# train셋 y분포\n",
        "pd.DataFrame(Y_train).value_counts()"
      ],
      "metadata": {
        "colab": {
          "base_uri": "https://localhost:8080/"
        },
        "id": "IaJJ1VA-sd9S",
        "outputId": "64e282a5-40cb-4bce-8478-2ade3aa50c6d"
      },
      "execution_count": 568,
      "outputs": [
        {
          "output_type": "execute_result",
          "data": {
            "text/plain": [
              "tone\n",
              "-1      3213\n",
              " 0      1032\n",
              " 1       869\n",
              "-2       486\n",
              "dtype: int64"
            ]
          },
          "metadata": {},
          "execution_count": 568
        }
      ]
    },
    {
      "cell_type": "code",
      "source": [
        "# test셋 y분포\n",
        "pd.DataFrame(Y_test).value_counts()"
      ],
      "metadata": {
        "colab": {
          "base_uri": "https://localhost:8080/"
        },
        "id": "VxIlfw1-ZAQ5",
        "outputId": "2dfeecd7-4a7f-41e8-b905-541ee31ee974"
      },
      "execution_count": 569,
      "outputs": [
        {
          "output_type": "execute_result",
          "data": {
            "text/plain": [
              "tone\n",
              "-1      1332\n",
              " 0       448\n",
              " 1       384\n",
              "-2       235\n",
              "dtype: int64"
            ]
          },
          "metadata": {},
          "execution_count": 569
        }
      ]
    },
    {
      "cell_type": "code",
      "source": [
        "from tensorflow.keras.preprocessing.sequence import pad_sequences\n",
        "\n",
        "max_len=40\n",
        "X_train = pad_sequences(X_train, maxlen=max_len)\n",
        "X_test = pad_sequences(X_test, maxlen=max_len)\n",
        "\n",
        "print('X_train shape: ', X_train.shape)\n",
        "print('X_test shape: ', X_test.shape)"
      ],
      "metadata": {
        "colab": {
          "base_uri": "https://localhost:8080/"
        },
        "id": "M2XIAk9UkEId",
        "outputId": "bdb66bdf-2333-428e-cfcc-d3361d048133"
      },
      "execution_count": 570,
      "outputs": [
        {
          "output_type": "stream",
          "name": "stdout",
          "text": [
            "X_train shape:  (5600, 40)\n",
            "X_test shape:  (2399, 40)\n"
          ]
        }
      ]
    },
    {
      "cell_type": "code",
      "source": [
        "import tensorflow as tf\n",
        "import matplotlib.pyplot as plt\n",
        "from keras.models import Sequential\n",
        "from keras.layers import Dense, LSTM, Embedding\n",
        "from keras.preprocessing import sequence\n",
        "from keras.utils import np_utils"
      ],
      "metadata": {
        "id": "L7Nct5U7kEF_"
      },
      "execution_count": 571,
      "outputs": []
    },
    {
      "cell_type": "code",
      "source": [
        "from sklearn.preprocessing import LabelEncoder\n",
        "\n",
        "encoder = LabelEncoder()\n",
        "# Train\n",
        "batch_size = Y_train.shape[0]\n",
        "input_dim = 1\n",
        "Y_train = encoder.fit_transform(Y_train) # Labeling\n",
        "Y_train = np.reshape(Y_train, (batch_size, input_dim)) # Reshape\n",
        "# Test\n",
        "batch_size = Y_test.shape[0]\n",
        "Y_test = encoder.transform(Y_test) # Labeling\n",
        "Y_test = np.reshape(Y_test, (batch_size, input_dim)) # Reshape\n",
        "\n",
        "print(Y_train.shape)\n",
        "print(Y_test.shape)"
      ],
      "metadata": {
        "colab": {
          "base_uri": "https://localhost:8080/"
        },
        "id": "Z2a1Yhg0mZpB",
        "outputId": "f900c03f-c168-482b-d20b-9f3085bef79d"
      },
      "execution_count": 572,
      "outputs": [
        {
          "output_type": "stream",
          "name": "stdout",
          "text": [
            "(5600, 1)\n",
            "(2399, 1)\n"
          ]
        }
      ]
    },
    {
      "cell_type": "code",
      "source": [
        "from tensorflow.keras import Sequential\n",
        "from tensorflow.keras.layers import Dense, Embedding, LSTM\n",
        "tf.random.set_seed(17)\n",
        "model = Sequential()\n",
        "model.add(Embedding(max_words, 128))\n",
        "model.add(LSTM(128, dropout=0.5,recurrent_dropout=0.5))\n",
        "model.add(Dense(4, activation='softmax'))\n",
        "model.compile(loss='sparse_categorical_crossentropy', optimizer='adam', metrics=['accuracy'])"
      ],
      "metadata": {
        "colab": {
          "base_uri": "https://localhost:8080/"
        },
        "id": "syqnyc3tjzlY",
        "outputId": "b97abd71-a56d-40a1-e0df-54ee07acef40"
      },
      "execution_count": 573,
      "outputs": [
        {
          "output_type": "stream",
          "name": "stderr",
          "text": [
            "WARNING:tensorflow:Layer lstm_24 will not use cuDNN kernels since it doesn't meet the criteria. It will use a generic GPU kernel as fallback when running on GPU.\n"
          ]
        }
      ]
    },
    {
      "cell_type": "code",
      "source": [
        "from sklearn.model_selection import train_test_split\n",
        "X_train1, X_valid, Y_train1, Y_valid = train_test_split(X_train, Y_train, test_size=0.2, shuffle=True)\n"
      ],
      "metadata": {
        "id": "LGPVKC3bHd92"
      },
      "execution_count": 574,
      "outputs": []
    },
    {
      "cell_type": "code",
      "source": [
        "hist = model.fit(X_train, Y_train, batch_size=32, epochs=5)\n"
      ],
      "metadata": {
        "colab": {
          "base_uri": "https://localhost:8080/"
        },
        "id": "CHzEUrh-mQcj",
        "outputId": "a5d2208f-cc78-4f8e-cb42-95291dcbaea0"
      },
      "execution_count": 575,
      "outputs": [
        {
          "output_type": "stream",
          "name": "stdout",
          "text": [
            "Epoch 1/5\n",
            "175/175 [==============================] - 16s 80ms/step - loss: 0.4896 - accuracy: 0.8234\n",
            "Epoch 2/5\n",
            "175/175 [==============================] - 14s 77ms/step - loss: 0.0553 - accuracy: 0.9859\n",
            "Epoch 3/5\n",
            "175/175 [==============================] - 14s 78ms/step - loss: 0.0153 - accuracy: 0.9968\n",
            "Epoch 4/5\n",
            "175/175 [==============================] - 14s 77ms/step - loss: 0.0047 - accuracy: 0.9991\n",
            "Epoch 5/5\n",
            "175/175 [==============================] - 14s 77ms/step - loss: 0.0021 - accuracy: 0.9995\n"
          ]
        }
      ]
    },
    {
      "cell_type": "code",
      "source": [
        ""
      ],
      "metadata": {
        "id": "yDtDhRln_c_7"
      },
      "execution_count": 575,
      "outputs": []
    },
    {
      "cell_type": "code",
      "source": [
        "loss, acc = model.evaluate(X_test, Y_test, batch_size=32)\n",
        "\n",
        "print('Test loss:', loss)\n",
        "print('Test accuracy:', acc)"
      ],
      "metadata": {
        "colab": {
          "base_uri": "https://localhost:8080/"
        },
        "id": "0AWq8j_EmQZH",
        "outputId": "5cd364e3-3b7a-4009-db08-2a69d8692994"
      },
      "execution_count": 576,
      "outputs": [
        {
          "output_type": "stream",
          "name": "stdout",
          "text": [
            "75/75 [==============================] - 1s 15ms/step - loss: 0.0183 - accuracy: 0.9962\n",
            "Test loss: 0.018256690353155136\n",
            "Test accuracy: 0.9962484240531921\n"
          ]
        }
      ]
    },
    {
      "cell_type": "code",
      "source": [
        ""
      ],
      "metadata": {
        "id": "KX-sIxS9JXNR"
      },
      "execution_count": 576,
      "outputs": []
    },
    {
      "cell_type": "code",
      "source": [
        "print(\"\\n 정확도 : %.4f\" % (model.evaluate(X_test, Y_test)[1]))\n",
        "\n",
        "# y_test_loss = hist.history['val_loss']\n",
        "y_train_loss = hist.history['loss']\n",
        "\n",
        "x_len = np.arange(len(y_test_loss))\n",
        "plt.plot (x_len, y_test_loss, marker=',', c='red', label='Testset_loss')\n",
        "plt.plot(x_len, y_train_loss, marker=',', c='blue', label='Trainset_loss')\n",
        "\n",
        "plt.legend(loc='upper right')\n",
        "plt.grid()\n",
        "plt.xlabel('epoch')\n",
        "plt.ylabel('loss')\n",
        "plt.show()\n",
        "\n",
        "\n"
      ],
      "metadata": {
        "colab": {
          "base_uri": "https://localhost:8080/",
          "height": 334
        },
        "id": "IeRAtFWlmQWb",
        "outputId": "4fe728bc-3a8c-40ff-d826-36566be943a3"
      },
      "execution_count": 577,
      "outputs": [
        {
          "output_type": "stream",
          "name": "stdout",
          "text": [
            "75/75 [==============================] - 1s 14ms/step - loss: 0.0183 - accuracy: 0.9962\n",
            "\n",
            " 정확도 : 0.9962\n"
          ]
        },
        {
          "output_type": "display_data",
          "data": {
            "text/plain": [
              "<Figure size 432x288 with 1 Axes>"
            ],
            "image/png": "[encoded data removed]"
          },
          "metadata": {
            "needs_background": "light"
          }
        }
      ]
    },
    {
      "cell_type": "code",
      "source": [
        "# %pip install PyKomoran"
      ],
      "metadata": {
        "id": "73ahr4qdcdKH"
      },
      "execution_count": 578,
      "outputs": []
    },
    {
      "cell_type": "code",
      "source": [
        "# from PyKomoran import *"
      ],
      "metadata": {
        "id": "lnl1KGIycfwQ"
      },
      "execution_count": 579,
      "outputs": []
    },
    {
      "cell_type": "code",
      "source": [
        "# import os\n",
        "\n",
        "# save_dir = os.getcwd()\n",
        "# model_name = 'keras_naver_review_trained_model.h5'\n",
        "\n",
        "# # Save model and weights\n",
        "# model_path = os.path.join(save_dir, model_name)\n",
        "# model.save(model_path)\n",
        "# print('Saved trained model at %s ' % model_path)"
      ],
      "metadata": {
        "id": "D7aBB7-xndbD"
      },
      "execution_count": 580,
      "outputs": []
    },
    {
      "cell_type": "code",
      "source": [
        "# from  tensorflow.keras.models import load_model\n",
        "# import os\n",
        "# import pickle\n",
        "\n",
        "# def load_tokenizer(path):\n",
        "#     with open(path, 'rb') as f:\n",
        "#         tokenizer = pickle.load(f)\n",
        "#     return tokenizer\n",
        "\n",
        "# load_dir = os.getcwd()\n",
        "# model_name = 'keras_naver_review_trained_model.h5'\n",
        "# tokenizer_name = 'keras_naver_review_tokenizer.pickle'\n",
        "# model_path = os.path.join(load_dir, model_name)\n",
        "# tokenizer_path = os.path.join(load_dir, tokenizer_name)\n",
        "\n",
        "# model = load_model(model_path)\n",
        "# tokenizer = load_tokenizer(tokenizer_path)"
      ],
      "metadata": {
        "id": "e-P4rWRcndYf"
      },
      "execution_count": 581,
      "outputs": []
    },
    {
      "cell_type": "code",
      "source": [
        "# model1=model.predict(X_test)"
      ],
      "metadata": {
        "id": "Dfl4AOBMdjbw"
      },
      "execution_count": 582,
      "outputs": []
    },
    {
      "cell_type": "code",
      "source": [
        "# model1[0]"
      ],
      "metadata": {
        "id": "5nEA5_mIdzeP"
      },
      "execution_count": 583,
      "outputs": []
    },
    {
      "cell_type": "code",
      "source": [
        "# import numpy as np\n",
        "# from PyKomoran import *\n",
        "# from tensorflow.keras.preprocessing.sequence import pad_sequences\n",
        "\n",
        "# max_len=40\n",
        "# komoran = Komoran(\"STABLE\")\n",
        "# stop_pos_tags =  ['IC', 'JKS', 'JKC', 'JKG', 'JKO', 'JKB', 'JKV', 'JKQ', 'JX', \n",
        "#                    'EF', 'ETN', 'ETM', 'XSA', 'SF', 'SP', 'SS', 'SE', 'SO', 'SL', 'SH', \n",
        "#                    'SW', 'NF', 'NV', 'SN', 'NA']\n",
        "\n",
        "# def tokenize(corpus, stop_pos_tags):\n",
        "#     result = []\n",
        "#     pairs = komoran.get_list(corpus)\n",
        "#     for pair in pairs:\n",
        "#         morph = pair.get_first()\n",
        "#         pos = pair.get_second()\n",
        "#         if pos not in stop_pos_tags:\n",
        "#             if pos in ['VV', 'VA', 'VX', 'VCP', 'VCN']:\n",
        "#                 morph = morph + '다'\n",
        "#             result.append(morph)\n",
        "#     return result\n",
        "\n",
        "# def predict_sentiment(text, model):\n",
        "#     tokens = []\n",
        "#     tokens.append(tokenize(text, stop_pos_tags))\n",
        "#     tokens = tokenizer.texts_to_sequences(tokens)\n",
        "#     x_test = pad_sequences(tokens, maxlen=max_len)\n",
        "#     predict = model.predict(X_test)\n",
        "#     if predict[0][2] > 0:\n",
        "#         return 'GOOD'\n",
        "#     else:\n",
        "#         return 'BAD'\n",
        "\n",
        "# review_text = '재미없는 영화입니다.'\n",
        "# result = predict_sentiment(review_text, model)\n",
        "\n",
        "# print('{} : {}'.format(review_text, result))"
      ],
      "metadata": {
        "id": "z--f60XAcMgT"
      },
      "execution_count": 584,
      "outputs": []
    },
    {
      "cell_type": "code",
      "source": [
        "from tensorflow.keras import Sequential\n",
        "from tensorflow.keras.layers import *\n",
        "tf.random.set_seed(20220818)\n",
        "model = Sequential()\n",
        "model.add(Embedding(max_words, 128))\n",
        "model.add(GRU(128, dropout=0.6,recurrent_dropout=0.6))\n",
        "model.add(Dense(4, activation='softmax'))\n",
        "model.compile(loss='sparse_categorical_crossentropy', optimizer='adam', metrics=['accuracy'])"
      ],
      "metadata": {
        "colab": {
          "base_uri": "https://localhost:8080/"
        },
        "id": "Dyl2jwe_cH5l",
        "outputId": "c856f312-0025-4590-abe2-2537c5455467"
      },
      "execution_count": 585,
      "outputs": [
        {
          "output_type": "stream",
          "name": "stderr",
          "text": [
            "WARNING:tensorflow:Layer gru_7 will not use cuDNN kernels since it doesn't meet the criteria. It will use a generic GPU kernel as fallback when running on GPU.\n"
          ]
        }
      ]
    },
    {
      "cell_type": "code",
      "source": [
        "hist = model.fit(X_train, Y_train, batch_size=32, epochs=5)"
      ],
      "metadata": {
        "colab": {
          "base_uri": "https://localhost:8080/"
        },
        "id": "yF68DQxse0l_",
        "outputId": "65760c13-ada5-4a45-fd2c-f89c8d90a99a"
      },
      "execution_count": 587,
      "outputs": [
        {
          "output_type": "stream",
          "name": "stdout",
          "text": [
            "Epoch 1/5\n",
            "175/175 [==============================] - 16s 74ms/step - loss: 0.5684 - accuracy: 0.7923\n",
            "Epoch 2/5\n",
            "175/175 [==============================] - 13s 73ms/step - loss: 0.0633 - accuracy: 0.9804\n",
            "Epoch 3/5\n",
            "175/175 [==============================] - 13s 73ms/step - loss: 0.0141 - accuracy: 0.9962\n",
            "Epoch 4/5\n",
            "175/175 [==============================] - 13s 74ms/step - loss: 0.0039 - accuracy: 0.9991\n",
            "Epoch 5/5\n",
            "175/175 [==============================] - 13s 74ms/step - loss: 0.0045 - accuracy: 0.9987\n"
          ]
        }
      ]
    },
    {
      "cell_type": "code",
      "source": [
        "loss, acc = model.evaluate(X_test, Y_test, batch_size=32)\n",
        "\n",
        "print('Test loss:', loss)\n",
        "print('Test accuracy:', acc)"
      ],
      "metadata": {
        "colab": {
          "base_uri": "https://localhost:8080/"
        },
        "id": "gCWRbGIQerJY",
        "outputId": "9567afc8-fbb3-48b6-985a-03a48ed54ebd"
      },
      "execution_count": 588,
      "outputs": [
        {
          "output_type": "stream",
          "name": "stdout",
          "text": [
            "75/75 [==============================] - 1s 14ms/step - loss: 0.0273 - accuracy: 0.9921\n",
            "Test loss: 0.027257947251200676\n",
            "Test accuracy: 0.99208003282547\n"
          ]
        }
      ]
    },
    {
      "cell_type": "code",
      "source": [
        "print(\"\\n 정확도 : %.4f\" % (model.evaluate(X_test, Y_test)[1]))\n",
        "\n",
        "# y_test_loss = hist.history['val_loss']\n",
        "y_train_loss = hist.history['loss']\n",
        "\n",
        "x_len = np.arange(len(y_test_loss))\n",
        "plt.plot (x_len, y_test_loss, marker=',', c='red', label='Testset_loss')\n",
        "plt.plot(x_len, y_train_loss, marker=',', c='blue', label='Trainset_loss')\n",
        "\n",
        "plt.legend(loc='upper right')\n",
        "plt.grid()\n",
        "plt.xlabel('epoch')\n",
        "plt.ylabel('loss')\n",
        "plt.show()"
      ],
      "metadata": {
        "colab": {
          "base_uri": "https://localhost:8080/",
          "height": 334
        },
        "id": "F8bh383NWbkh",
        "outputId": "74e02d00-09b6-4729-84cb-d7c5ac736b77"
      },
      "execution_count": 589,
      "outputs": [
        {
          "output_type": "stream",
          "name": "stdout",
          "text": [
            "75/75 [==============================] - 1s 14ms/step - loss: 0.0273 - accuracy: 0.9921\n",
            "\n",
            " 정확도 : 0.9921\n"
          ]
        },
        {
          "output_type": "display_data",
          "data": {
            "text/plain": [
              "<Figure size 432x288 with 1 Axes>"
            ],
            "image/png": "[encoded data removed]"
          },
          "metadata": {
            "needs_background": "light"
          }
        }
      ]
    },
    {
      "cell_type": "code",
      "source": [
        "from tensorflow.keras import Sequential\n",
        "from tensorflow.keras.layers import *\n",
        "tf.random.set_seed(12)\n",
        "model = Sequential()\n",
        "model.add(Embedding(max_words, 128))\n",
        "model.add(SimpleRNN(128, dropout=0.5,recurrent_dropout=0.5))\n",
        "model.add(Dense(4, activation='softmax'))\n",
        "model.compile(loss='sparse_categorical_crossentropy', optimizer='adam', metrics=['accuracy'])"
      ],
      "metadata": {
        "id": "iJJyCvjzeq_o"
      },
      "execution_count": 590,
      "outputs": []
    },
    {
      "cell_type": "code",
      "source": [
        "hist = model.fit(X_train, Y_train, batch_size=32, epochs=5)"
      ],
      "metadata": {
        "colab": {
          "base_uri": "https://localhost:8080/"
        },
        "id": "Trg7WV4MH_Rj",
        "outputId": "6aa72c8b-1f90-4618-c481-f51d43e85fbd"
      },
      "execution_count": 592,
      "outputs": [
        {
          "output_type": "stream",
          "name": "stdout",
          "text": [
            "Epoch 1/5\n",
            "175/175 [==============================] - 7s 34ms/step - loss: 1.3764 - accuracy: 0.3655\n",
            "Epoch 2/5\n",
            "175/175 [==============================] - 6s 34ms/step - loss: 1.0380 - accuracy: 0.5852\n",
            "Epoch 3/5\n",
            "175/175 [==============================] - 6s 33ms/step - loss: 0.7682 - accuracy: 0.7070\n",
            "Epoch 4/5\n",
            "175/175 [==============================] - 6s 34ms/step - loss: 0.5859 - accuracy: 0.7845\n",
            "Epoch 5/5\n",
            "175/175 [==============================] - 6s 34ms/step - loss: 0.4569 - accuracy: 0.8405\n"
          ]
        }
      ]
    },
    {
      "cell_type": "code",
      "source": [
        "loss, acc = model.evaluate(X_test, Y_test, batch_size=32)\n",
        "\n",
        "print('Test loss:', loss)\n",
        "print('Test accuracy:', acc)"
      ],
      "metadata": {
        "colab": {
          "base_uri": "https://localhost:8080/"
        },
        "id": "0iehGm3dndV1",
        "outputId": "05ae1cb9-8627-4bfa-f071-234a4b851d21"
      },
      "execution_count": 593,
      "outputs": [
        {
          "output_type": "stream",
          "name": "stdout",
          "text": [
            "75/75 [==============================] - 1s 6ms/step - loss: 0.3486 - accuracy: 0.8654\n",
            "Test loss: 0.34863510727882385\n",
            "Test accuracy: 0.8653605580329895\n"
          ]
        }
      ]
    },
    {
      "cell_type": "code",
      "source": [
        "print(\"\\n 정확도 : %.4f\" % (model.evaluate(X_test, Y_test)[1]))\n",
        "\n",
        "# y_test_loss = hist.history['val_loss']\n",
        "y_train_loss = hist.history['loss']\n",
        "\n",
        "x_len = np.arange(len(y_test_loss))\n",
        "plt.plot (x_len, y_test_loss, marker=',', c='red', label='Testset_loss')\n",
        "plt.plot(x_len, y_train_loss, marker=',', c='blue', label='Trainset_loss')\n",
        "\n",
        "plt.legend(loc='upper right')\n",
        "plt.grid()\n",
        "plt.xlabel('epoch')\n",
        "plt.ylabel('loss')\n",
        "plt.show()"
      ],
      "metadata": {
        "colab": {
          "base_uri": "https://localhost:8080/",
          "height": 334
        },
        "id": "SSePJBWKIcbW",
        "outputId": "ae3dcca8-f87e-4815-b7f1-100194a52aa3"
      },
      "execution_count": 594,
      "outputs": [
        {
          "output_type": "stream",
          "name": "stdout",
          "text": [
            "75/75 [==============================] - 0s 6ms/step - loss: 0.3486 - accuracy: 0.8654\n",
            "\n",
            " 정확도 : 0.8654\n"
          ]
        },
        {
          "output_type": "display_data",
          "data": {
            "text/plain": [
              "<Figure size 432x288 with 1 Axes>"
            ],
            "image/png": "[encoded data removed]"
          },
          "metadata": {
            "needs_background": "light"
          }
        }
      ]
    }
  ]
}