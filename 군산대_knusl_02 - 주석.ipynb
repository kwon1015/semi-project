{
 "cells": [
  {
   "cell_type": "markdown",
   "metadata": {
    "id": "qYF8XVyJg-eB"
   },
   "source": [
    "# 댓글 자연어처리 및 감성분석\n",
    "\n",
    "#### 1. 필요한 라이브러리 및 파일 불러오기"
   ]
  },
  {
   "cell_type": "code",
   "execution_count": null,
   "metadata": {
    "id": "P57aIET1hYo2"
   },
   "outputs": [],
   "source": [
    "# 구글 드라이브 마운트\n",
    "from google.colab import drive\n",
    "drive.mount('/content/drive')"
   ]
  },
  {
   "cell_type": "code",
   "execution_count": 2,
   "metadata": {
    "id": "JCESLAgGg6hR"
   },
   "outputs": [],
   "source": [
    "import pandas as pd\n",
    "import numpy as np\n",
    "twitter = pd.read_csv('데이터수집본(중복없음).csv')"
   ]
  },
  {
   "cell_type": "code",
   "execution_count": 14,
   "metadata": {},
   "outputs": [
    {
     "data": {
      "text/html": [
       "<div>\n",
       "<style scoped>\n",
       "    .dataframe tbody tr th:only-of-type {\n",
       "        vertical-align: middle;\n",
       "    }\n",
       "\n",
       "    .dataframe tbody tr th {\n",
       "        vertical-align: top;\n",
       "    }\n",
       "\n",
       "    .dataframe thead th {\n",
       "        text-align: right;\n",
       "    }\n",
       "</style>\n",
       "<table border=\"1\" class=\"dataframe\">\n",
       "  <thead>\n",
       "    <tr style=\"text-align: right;\">\n",
       "      <th></th>\n",
       "      <th>Unnamed: 0.1</th>\n",
       "      <th>Unnamed: 0</th>\n",
       "      <th>ID</th>\n",
       "      <th>Text</th>\n",
       "      <th>Date</th>\n",
       "      <th>Key</th>\n",
       "      <th>duplicates</th>\n",
       "    </tr>\n",
       "  </thead>\n",
       "  <tbody>\n",
       "    <tr>\n",
       "      <th>0</th>\n",
       "      <td>0</td>\n",
       "      <td>0</td>\n",
       "      <td>1556991811700240384</td>\n",
       "      <td>서울 되련님들도 뭣같고 오세이돈도 뭣같고 지옥런한 새끼도 뭣같고 산불 안보러간다고 ...</td>\n",
       "      <td>2022-08-09 13:12:30</td>\n",
       "      <td>산불 or 화재</td>\n",
       "      <td>360</td>\n",
       "    </tr>\n",
       "    <tr>\n",
       "      <th>1</th>\n",
       "      <td>1</td>\n",
       "      <td>1</td>\n",
       "      <td>1556991703256821761</td>\n",
       "      <td>RT @anna12285: @babylion0505 @free351 지겹게 이어지던...</td>\n",
       "      <td>2022-08-09 13:12:04</td>\n",
       "      <td>산불 or 화재</td>\n",
       "      <td>360</td>\n",
       "    </tr>\n",
       "    <tr>\n",
       "      <th>2</th>\n",
       "      <td>2</td>\n",
       "      <td>2</td>\n",
       "      <td>1556991657337552896</td>\n",
       "      <td>RT @envsha: 이번주 뉴스만 해도\\n- 파키스탄 지난 5주간 폭우로 282명...</td>\n",
       "      <td>2022-08-09 13:11:53</td>\n",
       "      <td>산불 or 화재</td>\n",
       "      <td>360</td>\n",
       "    </tr>\n",
       "    <tr>\n",
       "      <th>3</th>\n",
       "      <td>3</td>\n",
       "      <td>3</td>\n",
       "      <td>1556991610772402176</td>\n",
       "      <td>RT @c2bwsjuhmEW3tbX: 이상 이천화재로 사람죽어갈때 경기도지사랑 떡볶...</td>\n",
       "      <td>2022-08-09 13:11:42</td>\n",
       "      <td>산불 or 화재</td>\n",
       "      <td>1614</td>\n",
       "    </tr>\n",
       "    <tr>\n",
       "      <th>4</th>\n",
       "      <td>4</td>\n",
       "      <td>4</td>\n",
       "      <td>1556991592782737410</td>\n",
       "      <td>RT @ulttung: 재난에 닥치니 진짜 문재인대통령, 이낙연 총리님시절이 그리워...</td>\n",
       "      <td>2022-08-09 13:11:37</td>\n",
       "      <td>산불 or 화재</td>\n",
       "      <td>638</td>\n",
       "    </tr>\n",
       "    <tr>\n",
       "      <th>...</th>\n",
       "      <td>...</td>\n",
       "      <td>...</td>\n",
       "      <td>...</td>\n",
       "      <td>...</td>\n",
       "      <td>...</td>\n",
       "      <td>...</td>\n",
       "      <td>...</td>\n",
       "    </tr>\n",
       "    <tr>\n",
       "      <th>258</th>\n",
       "      <td>50802</td>\n",
       "      <td>12</td>\n",
       "      <td>1556990545247215617</td>\n",
       "      <td>RT @granite0: 2022년 8월 8일 기록적인 호우로 인한 강남 침수로 오...</td>\n",
       "      <td>2022-08-09 13:07:28+00:00</td>\n",
       "      <td>기타</td>\n",
       "      <td>49</td>\n",
       "    </tr>\n",
       "    <tr>\n",
       "      <th>259</th>\n",
       "      <td>51525</td>\n",
       "      <td>0</td>\n",
       "      <td>1556990849015500800</td>\n",
       "      <td>서울에 폭설이 내리고 난리가 날 때 눈 구경할 일 없던 남쪽 끄트머리에 살던 나는 ...</td>\n",
       "      <td>2022-08-09 13:08:40+00:00</td>\n",
       "      <td>기타</td>\n",
       "      <td>49</td>\n",
       "    </tr>\n",
       "    <tr>\n",
       "      <th>260</th>\n",
       "      <td>51529</td>\n",
       "      <td>4</td>\n",
       "      <td>1556990810360807424</td>\n",
       "      <td>RT @09_25: 이미 사추 육아로 경력직이긴 했지만 위무선이 낳은 아이들 덕에 ...</td>\n",
       "      <td>2022-08-09 13:08:31+00:00</td>\n",
       "      <td>기타</td>\n",
       "      <td>49</td>\n",
       "    </tr>\n",
       "    <tr>\n",
       "      <th>261</th>\n",
       "      <td>51533</td>\n",
       "      <td>8</td>\n",
       "      <td>1556990796900904961</td>\n",
       "      <td>흐아앙이 그뜻이었어요..ㅇ0ㅇ?(동공지진 https://t.co/AVGGr9b2EW</td>\n",
       "      <td>2022-08-09 13:08:28+00:00</td>\n",
       "      <td>기타</td>\n",
       "      <td>49</td>\n",
       "    </tr>\n",
       "    <tr>\n",
       "      <th>262</th>\n",
       "      <td>51535</td>\n",
       "      <td>10</td>\n",
       "      <td>1556990792694018049</td>\n",
       "      <td>RT @yoji0802: 정말 대통령실 통째로 개판이구나! 대가리 제대로 된 놈이 ...</td>\n",
       "      <td>2022-08-09 13:08:27+00:00</td>\n",
       "      <td>기타</td>\n",
       "      <td>49</td>\n",
       "    </tr>\n",
       "  </tbody>\n",
       "</table>\n",
       "<p>263 rows × 7 columns</p>\n",
       "</div>"
      ],
      "text/plain": [
       "     Unnamed: 0.1  Unnamed: 0                   ID  \\\n",
       "0               0           0  1556991811700240384   \n",
       "1               1           1  1556991703256821761   \n",
       "2               2           2  1556991657337552896   \n",
       "3               3           3  1556991610772402176   \n",
       "4               4           4  1556991592782737410   \n",
       "..            ...         ...                  ...   \n",
       "258         50802          12  1556990545247215617   \n",
       "259         51525           0  1556990849015500800   \n",
       "260         51529           4  1556990810360807424   \n",
       "261         51533           8  1556990796900904961   \n",
       "262         51535          10  1556990792694018049   \n",
       "\n",
       "                                                  Text  \\\n",
       "0    서울 되련님들도 뭣같고 오세이돈도 뭣같고 지옥런한 새끼도 뭣같고 산불 안보러간다고 ...   \n",
       "1    RT @anna12285: @babylion0505 @free351 지겹게 이어지던...   \n",
       "2    RT @envsha: 이번주 뉴스만 해도\\n- 파키스탄 지난 5주간 폭우로 282명...   \n",
       "3    RT @c2bwsjuhmEW3tbX: 이상 이천화재로 사람죽어갈때 경기도지사랑 떡볶...   \n",
       "4    RT @ulttung: 재난에 닥치니 진짜 문재인대통령, 이낙연 총리님시절이 그리워...   \n",
       "..                                                 ...   \n",
       "258  RT @granite0: 2022년 8월 8일 기록적인 호우로 인한 강남 침수로 오...   \n",
       "259  서울에 폭설이 내리고 난리가 날 때 눈 구경할 일 없던 남쪽 끄트머리에 살던 나는 ...   \n",
       "260  RT @09_25: 이미 사추 육아로 경력직이긴 했지만 위무선이 낳은 아이들 덕에 ...   \n",
       "261     흐아앙이 그뜻이었어요..ㅇ0ㅇ?(동공지진 https://t.co/AVGGr9b2EW   \n",
       "262  RT @yoji0802: 정말 대통령실 통째로 개판이구나! 대가리 제대로 된 놈이 ...   \n",
       "\n",
       "                          Date       Key  duplicates  \n",
       "0          2022-08-09 13:12:30  산불 or 화재         360  \n",
       "1          2022-08-09 13:12:04  산불 or 화재         360  \n",
       "2          2022-08-09 13:11:53  산불 or 화재         360  \n",
       "3          2022-08-09 13:11:42  산불 or 화재        1614  \n",
       "4          2022-08-09 13:11:37  산불 or 화재         638  \n",
       "..                         ...       ...         ...  \n",
       "258  2022-08-09 13:07:28+00:00        기타          49  \n",
       "259  2022-08-09 13:08:40+00:00        기타          49  \n",
       "260  2022-08-09 13:08:31+00:00        기타          49  \n",
       "261  2022-08-09 13:08:28+00:00        기타          49  \n",
       "262  2022-08-09 13:08:27+00:00        기타          49  \n",
       "\n",
       "[263 rows x 7 columns]"
      ]
     },
     "execution_count": 14,
     "metadata": {},
     "output_type": "execute_result"
    }
   ],
   "source": [
    "twitter"
   ]
  },
  {
   "cell_type": "code",
   "execution_count": 21,
   "metadata": {
    "id": "TA1wYnk8hr4k"
   },
   "outputs": [
    {
     "data": {
      "text/html": [
       "<div>\n",
       "<style scoped>\n",
       "    .dataframe tbody tr th:only-of-type {\n",
       "        vertical-align: middle;\n",
       "    }\n",
       "\n",
       "    .dataframe tbody tr th {\n",
       "        vertical-align: top;\n",
       "    }\n",
       "\n",
       "    .dataframe thead th {\n",
       "        text-align: right;\n",
       "    }\n",
       "</style>\n",
       "<table border=\"1\" class=\"dataframe\">\n",
       "  <thead>\n",
       "    <tr style=\"text-align: right;\">\n",
       "      <th></th>\n",
       "      <th>Text</th>\n",
       "    </tr>\n",
       "  </thead>\n",
       "  <tbody>\n",
       "    <tr>\n",
       "      <th>0</th>\n",
       "      <td>서울 되련님들도 뭣같고 오세이돈도 뭣같고 지옥런한 새끼도 뭣같고 산불 안보러간다고 ...</td>\n",
       "    </tr>\n",
       "    <tr>\n",
       "      <th>1</th>\n",
       "      <td>지겹게 이어지던 산불  기억속에 가득하다</td>\n",
       "    </tr>\n",
       "    <tr>\n",
       "      <th>2</th>\n",
       "      <td>s    이번주 뉴스만 해도   파키스탄 지난  주간 폭우로    명 사망   미국...</td>\n",
       "    </tr>\n",
       "    <tr>\n",
       "      <th>3</th>\n",
       "      <td>s            이상 이천화재로 사람죽어갈때 경기도지사랑 떡볶이먹방찍고계셨던...</td>\n",
       "    </tr>\n",
       "    <tr>\n",
       "      <th>4</th>\n",
       "      <td>재난에 닥치니 진짜 문재인대통령  이낙연 총리님시절이 그리워죽겠음 그때 산불났을 때...</td>\n",
       "    </tr>\n",
       "    <tr>\n",
       "      <th>...</th>\n",
       "      <td>...</td>\n",
       "    </tr>\n",
       "    <tr>\n",
       "      <th>258</th>\n",
       "      <td>년  월  일 기록적인 호우로 인한 강남 침수로 오세훈의 대권꿈도 떠내려가버림   ...</td>\n",
       "    </tr>\n",
       "    <tr>\n",
       "      <th>259</th>\n",
       "      <td>서울에 폭설이 내리고 난리가 날 때 눈 구경할 일 없던 남쪽 끄트머리에 살던 나는 ...</td>\n",
       "    </tr>\n",
       "    <tr>\n",
       "      <th>260</th>\n",
       "      <td>이미 사추 육아로 경력직이긴 했지만 위무선이 낳은 아이들 덕에 정말로 부친이 된 남...</td>\n",
       "    </tr>\n",
       "    <tr>\n",
       "      <th>261</th>\n",
       "      <td>흐아앙이 그뜻이었어요  ㅇ ㅇ  동공지진     s</td>\n",
       "    </tr>\n",
       "    <tr>\n",
       "      <th>262</th>\n",
       "      <td>정말 대통령실 통째로 개판이구나  대가리 제대로 된 놈이 한개도 없네   영상   ...</td>\n",
       "    </tr>\n",
       "  </tbody>\n",
       "</table>\n",
       "<p>263 rows × 1 columns</p>\n",
       "</div>"
      ],
      "text/plain": [
       "                                                  Text\n",
       "0    서울 되련님들도 뭣같고 오세이돈도 뭣같고 지옥런한 새끼도 뭣같고 산불 안보러간다고 ...\n",
       "1                               지겹게 이어지던 산불  기억속에 가득하다\n",
       "2    s    이번주 뉴스만 해도   파키스탄 지난  주간 폭우로    명 사망   미국...\n",
       "3    s            이상 이천화재로 사람죽어갈때 경기도지사랑 떡볶이먹방찍고계셨던...\n",
       "4    재난에 닥치니 진짜 문재인대통령  이낙연 총리님시절이 그리워죽겠음 그때 산불났을 때...\n",
       "..                                                 ...\n",
       "258  년  월  일 기록적인 호우로 인한 강남 침수로 오세훈의 대권꿈도 떠내려가버림   ...\n",
       "259  서울에 폭설이 내리고 난리가 날 때 눈 구경할 일 없던 남쪽 끄트머리에 살던 나는 ...\n",
       "260  이미 사추 육아로 경력직이긴 했지만 위무선이 낳은 아이들 덕에 정말로 부친이 된 남...\n",
       "261                       흐아앙이 그뜻이었어요  ㅇ ㅇ  동공지진     s\n",
       "262  정말 대통령실 통째로 개판이구나  대가리 제대로 된 놈이 한개도 없네   영상   ...\n",
       "\n",
       "[263 rows x 1 columns]"
      ]
     },
     "execution_count": 21,
     "metadata": {},
     "output_type": "execute_result"
    }
   ],
   "source": [
    "twitter= twitter[['Text']] \n",
    "twitter"
   ]
  },
  {
   "cell_type": "markdown",
   "metadata": {
    "id": "T39_BAOeh1bB"
   },
   "source": [
    "#### 2. 한글 제외한 문자 제거"
   ]
  },
  {
   "cell_type": "code",
   "execution_count": 16,
   "metadata": {},
   "outputs": [],
   "source": [
    "import re "
   ]
  },
  {
   "cell_type": "code",
   "execution_count": 18,
   "metadata": {},
   "outputs": [],
   "source": [
    "remove_except_ko = re.compile(r\"[^가-힣ㄱ-ㅎㅏ-ㅣ\\\\s]\")"
   ]
  },
  {
   "cell_type": "code",
   "execution_count": 22,
   "metadata": {
    "id": "VuaMmeWRhz4-"
   },
   "outputs": [
    {
     "name": "stderr",
     "output_type": "stream",
     "text": [
      "C:\\Users\\LG\\AppData\\Local\\Temp\\ipykernel_5240\\752728357.py:14: SettingWithCopyWarning: \n",
      "A value is trying to be set on a copy of a slice from a DataFrame.\n",
      "Try using .loc[row_indexer,col_indexer] = value instead\n",
      "\n",
      "See the caveats in the documentation: https://pandas.pydata.org/pandas-docs/stable/user_guide/indexing.html#returning-a-view-versus-a-copy\n",
      "  twitter['Text'] = twitter['Text'].map(lambda x : preprocess(x))\n"
     ]
    }
   ],
   "source": [
    "# '한글'을 제외한 다른 문자 모두 제거\n",
    "import re \n",
    "# 파이썬에서는 정규 표현식을 지원하기 위해 re(regular expression) 모듈을 제공한다.\n",
    "remove_except_ko = re.compile(r\"[^가-힣ㄱ-ㅎㅏ-ㅣ\\\\s]\")\n",
    "# re를 통해 모듈을 임포트 한뒤, re.compile('정규표현식')로 정규표현식을 불러온다.\n",
    "# compile 함수는 문자열을 받은 후 이를 파이썬 코드로 반환해줌. (컴퓨터가 이해할 수 있도록)\n",
    "# 정규표현식 '^' 는 시작되는 문자열 지정\n",
    "#^ : 맨 앞에 사용될 경우에만 해당 문자 패턴이 아닌 것과 매칭 아주아주아주아주아주아주아주아주 중요!!!!!!!!!!\n",
    "# 예시 [^a-d] : a 그리고 b 그리고 c 그리고 d 가 아닌 문자열\n",
    "# 가~힣 까지 검색 후 자음인 ㄱ~ㅎ 까지 검색 그 다음 모음인 ㅏ~ㅣ까지 탐색하며 한글만 전부 불러옴\n",
    "# 한번에 ㄱ~힣 이런 식으로는 사용 불가\n",
    "def preprocess(text):\n",
    "    text = re.sub(remove_except_ko,' ',text).strip()\n",
    "    return text\n",
    "# re.sub 함수의 구성 : re.sub（정규 표현식, 치환 문자, 대상 문자열）\n",
    "# re.sub('찾을 패턴', '찾은 패턴을 변경할 내용', '원본')\n",
    "# re.sub 함수는 정규 표현식으로 문자열 치환을 해줍니다.\n",
    "twitter['Text'] = twitter['Text'].map(lambda x : preprocess(x))"
   ]
  },
  {
   "cell_type": "code",
   "execution_count": 24,
   "metadata": {
    "id": "EimDH09diDAB"
   },
   "outputs": [
    {
     "data": {
      "text/html": [
       "<div>\n",
       "<style scoped>\n",
       "    .dataframe tbody tr th:only-of-type {\n",
       "        vertical-align: middle;\n",
       "    }\n",
       "\n",
       "    .dataframe tbody tr th {\n",
       "        vertical-align: top;\n",
       "    }\n",
       "\n",
       "    .dataframe thead th {\n",
       "        text-align: right;\n",
       "    }\n",
       "</style>\n",
       "<table border=\"1\" class=\"dataframe\">\n",
       "  <thead>\n",
       "    <tr style=\"text-align: right;\">\n",
       "      <th></th>\n",
       "      <th>Text</th>\n",
       "    </tr>\n",
       "  </thead>\n",
       "  <tbody>\n",
       "    <tr>\n",
       "      <th>0</th>\n",
       "      <td>서울 되련님들도 뭣같고 오세이돈도 뭣같고 지옥런한 새끼도 뭣같고 산불 안보러간다고 ...</td>\n",
       "    </tr>\n",
       "    <tr>\n",
       "      <th>1</th>\n",
       "      <td>지겹게 이어지던 산불  기억속에 가득하다</td>\n",
       "    </tr>\n",
       "    <tr>\n",
       "      <th>2</th>\n",
       "      <td>s    이번주 뉴스만 해도   파키스탄 지난  주간 폭우로    명 사망   미국...</td>\n",
       "    </tr>\n",
       "    <tr>\n",
       "      <th>3</th>\n",
       "      <td>s            이상 이천화재로 사람죽어갈때 경기도지사랑 떡볶이먹방찍고계셨던...</td>\n",
       "    </tr>\n",
       "    <tr>\n",
       "      <th>4</th>\n",
       "      <td>재난에 닥치니 진짜 문재인대통령  이낙연 총리님시절이 그리워죽겠음 그때 산불났을 때...</td>\n",
       "    </tr>\n",
       "    <tr>\n",
       "      <th>...</th>\n",
       "      <td>...</td>\n",
       "    </tr>\n",
       "    <tr>\n",
       "      <th>258</th>\n",
       "      <td>년  월  일 기록적인 호우로 인한 강남 침수로 오세훈의 대권꿈도 떠내려가버림   ...</td>\n",
       "    </tr>\n",
       "    <tr>\n",
       "      <th>259</th>\n",
       "      <td>서울에 폭설이 내리고 난리가 날 때 눈 구경할 일 없던 남쪽 끄트머리에 살던 나는 ...</td>\n",
       "    </tr>\n",
       "    <tr>\n",
       "      <th>260</th>\n",
       "      <td>이미 사추 육아로 경력직이긴 했지만 위무선이 낳은 아이들 덕에 정말로 부친이 된 남...</td>\n",
       "    </tr>\n",
       "    <tr>\n",
       "      <th>261</th>\n",
       "      <td>흐아앙이 그뜻이었어요  ㅇ ㅇ  동공지진     s</td>\n",
       "    </tr>\n",
       "    <tr>\n",
       "      <th>262</th>\n",
       "      <td>정말 대통령실 통째로 개판이구나  대가리 제대로 된 놈이 한개도 없네   영상   ...</td>\n",
       "    </tr>\n",
       "  </tbody>\n",
       "</table>\n",
       "<p>263 rows × 1 columns</p>\n",
       "</div>"
      ],
      "text/plain": [
       "                                                  Text\n",
       "0    서울 되련님들도 뭣같고 오세이돈도 뭣같고 지옥런한 새끼도 뭣같고 산불 안보러간다고 ...\n",
       "1                               지겹게 이어지던 산불  기억속에 가득하다\n",
       "2    s    이번주 뉴스만 해도   파키스탄 지난  주간 폭우로    명 사망   미국...\n",
       "3    s            이상 이천화재로 사람죽어갈때 경기도지사랑 떡볶이먹방찍고계셨던...\n",
       "4    재난에 닥치니 진짜 문재인대통령  이낙연 총리님시절이 그리워죽겠음 그때 산불났을 때...\n",
       "..                                                 ...\n",
       "258  년  월  일 기록적인 호우로 인한 강남 침수로 오세훈의 대권꿈도 떠내려가버림   ...\n",
       "259  서울에 폭설이 내리고 난리가 날 때 눈 구경할 일 없던 남쪽 끄트머리에 살던 나는 ...\n",
       "260  이미 사추 육아로 경력직이긴 했지만 위무선이 낳은 아이들 덕에 정말로 부친이 된 남...\n",
       "261                       흐아앙이 그뜻이었어요  ㅇ ㅇ  동공지진     s\n",
       "262  정말 대통령실 통째로 개판이구나  대가리 제대로 된 놈이 한개도 없네   영상   ...\n",
       "\n",
       "[263 rows x 1 columns]"
      ]
     },
     "execution_count": 24,
     "metadata": {},
     "output_type": "execute_result"
    }
   ],
   "source": [
    "twitter"
   ]
  },
  {
   "cell_type": "markdown",
   "metadata": {
    "id": "ntRcIQ7OiLZo"
   },
   "source": [
    "#### 3. OKT 토큰화와 필요없는 조사 제거"
   ]
  },
  {
   "cell_type": "code",
   "execution_count": null,
   "metadata": {
    "id": "2Wy3RvEQi1MB"
   },
   "outputs": [],
   "source": [
    "!pip install konlpy"
   ]
  },
  {
   "cell_type": "code",
   "execution_count": null,
   "metadata": {
    "id": "XaJ4qR5miIO-"
   },
   "outputs": [],
   "source": [
    "from konlpy.tag import Okt\n",
    "okt=Okt()\n",
    "# Okt (Twitter)\n",
    "# 해당 분석기는 오픈 소스 한국어 분석기이고, 과거 트위터 형태소 분석기였습니다.\n",
    "# mecab 사용해 토큰화, 한글자 제거, stop_word 제거\n",
    "stop_word = ['께서','에서','이다','에게','으로','이랑','까지','부터','하다']\n",
    "# stopword 불용어 : 제거해야함, 이거는 단어\n",
    "stopPos = ['Determiner','Adverb','Conjuctions','Josa','PreEomi','Eomi','Suffix',\n",
    "          'Punctuation','Foreign','Alpha','Number','Unknown','KoreanParticle']\n",
    "# stopPose의 내용들 : nltk 품사 표식 목록, 이 요소들을 지운다는 뜻\n",
    "def token_okt(text):\n",
    "    text = okt.pos(text)\n",
    "# okt.pos()\n",
    "# - 각 품사를 태깅하는 역할. \n",
    "# - 품사를 태깅한다는 것은 주어진 텍스트를 형태소 \n",
    "# 단위로 나누고, 나눠진 각 형태소를 그에 해당하는 품사와 함께 리스트화 하는 것을 의미한다. \n",
    "    text = [i for i in text if len(i[0])>1]\n",
    "# 텍스트 해당 단어가 존재한다면    \n",
    "    text = [i for i in text if i[0] not in stop_word]\n",
    "# 텍스트 해당 단어가 불용어가 아니라면    \n",
    "    text = [i[0] for i in text if i[1] not in stopPos]\n",
    "# 텍스트 해당 단어가 제거 품사에 해당되지 않는다면     \n",
    "    return text\n",
    "# 텍스트 해당 단어 반환"
   ]
  },
  {
   "cell_type": "code",
   "execution_count": 1,
   "metadata": {},
   "outputs": [
    {
     "ename": "NameError",
     "evalue": "name 'text' is not defined",
     "output_type": "error",
     "traceback": [
      "\u001b[1;31m---------------------------------------------------------------------------\u001b[0m",
      "\u001b[1;31mNameError\u001b[0m                                 Traceback (most recent call last)",
      "Input \u001b[1;32mIn [1]\u001b[0m, in \u001b[0;36m<cell line: 1>\u001b[1;34m()\u001b[0m\n\u001b[1;32m----> 1\u001b[0m [i \u001b[38;5;28;01mfor\u001b[39;00m i \u001b[38;5;129;01min\u001b[39;00m \u001b[43mtext\u001b[49m \u001b[38;5;28;01mif\u001b[39;00m \u001b[38;5;28mlen\u001b[39m(i[\u001b[38;5;241m0\u001b[39m])\u001b[38;5;241m>\u001b[39m\u001b[38;5;241m1\u001b[39m]\n",
      "\u001b[1;31mNameError\u001b[0m: name 'text' is not defined"
     ]
    }
   ],
   "source": [
    "[i for i in text if len(i[0])>1]"
   ]
  },
  {
   "cell_type": "code",
   "execution_count": null,
   "metadata": {
    "id": "MqNTYbgHiTrU"
   },
   "outputs": [],
   "source": [
    "# 토큰화 + 토큰리스트 생성 \n",
    "def make_tokens(df):\n",
    "    df['tokens'] = ''\n",
    "# 토큰 컬럼을 만듦    \n",
    "    tokens_list=[]\n",
    "# 리스트도 만듬    \n",
    "    for i, row in df.iterrows():\n",
    "# iterrows 메서드는 데이터의 행-열/데이터 정보를 튜플 형태의 generator 객체로 반환하는 메서드입니다.\n",
    "# (행 이름, 내용의 Series객체) 형태로 반환하는데, Series객체는 열 - 값 형태로 반환됩니다.       \n",
    "        if i%500==0:\n",
    "# 500 단위로 끊는다.\n",
    "            print(i,'/',len(df))\n",
    "# 500, / , len(df) 왜 하는지 잘 모르겠음   \n",
    "        token = token_okt(df['Text'][i])\n",
    "# 아까 토큰생성함수를 활용하여 df['Text']를 각 항목마다 토큰 생성    \n",
    "        df['tokens'][i] = ' '.join(token)\n",
    "# 생성된 각각의 토큰 항목들을 공백 한칸 기준으로 묶어주는 토큰 컬럼 생성    \n",
    "    return df\n",
    "\n",
    "twitter = make_tokens(twitter)"
   ]
  },
  {
   "cell_type": "code",
   "execution_count": null,
   "metadata": {
    "id": "7YUge1JNjKFG"
   },
   "outputs": [],
   "source": [
    "# 빈칸 찾아내기\n",
    "twitter.replace('', np.nan, inplace=True)\n",
    "twitter.isnull().sum()"
   ]
  },
  {
   "cell_type": "code",
   "execution_count": null,
   "metadata": {
    "id": "8RrqIY-XjUo_"
   },
   "outputs": [],
   "source": [
    "#Null 값 없애기\n",
    "twitter=twitter.dropna()\n",
    "twitter.isnull().sum()"
   ]
  },
  {
   "cell_type": "code",
   "execution_count": null,
   "metadata": {
    "id": "gJcSwPeRjbQy"
   },
   "outputs": [],
   "source": [
    "twitter.head(10)"
   ]
  },
  {
   "cell_type": "code",
   "execution_count": null,
   "metadata": {
    "id": "oslcdTLejig3"
   },
   "outputs": [],
   "source": [
    "twitter.to_csv(r'twitter_token.csv')"
   ]
  },
  {
   "cell_type": "code",
   "execution_count": null,
   "metadata": {
    "id": "xLVWmXwEju8H"
   },
   "outputs": [],
   "source": [
    "data = pd.read_csv(r'/content/twitter_token.csv')"
   ]
  },
  {
   "cell_type": "code",
   "execution_count": null,
   "metadata": {
    "id": "0dagWqCsj4xo"
   },
   "outputs": [],
   "source": [
    "data.head()"
   ]
  },
  {
   "cell_type": "code",
   "execution_count": null,
   "metadata": {
    "id": "lGfoBGMjj9d6"
   },
   "outputs": [],
   "source": [
    "df_new = pd.DataFrame(data)"
   ]
  },
  {
   "cell_type": "code",
   "execution_count": null,
   "metadata": {
    "id": "V8xobnFhkAu0"
   },
   "outputs": [],
   "source": [
    "df_new = df_new[['tokens']]\n",
    "# token csv에서 토큰화된 컬럼만 추출"
   ]
  },
  {
   "cell_type": "code",
   "execution_count": null,
   "metadata": {
    "id": "u9HAWFHVkCjd"
   },
   "outputs": [],
   "source": [
    "df_new"
   ]
  },
  {
   "cell_type": "markdown",
   "metadata": {
    "id": "C-7SMA50kGcf"
   },
   "source": [
    "#### 4. 감정사전 불러오기"
   ]
  },
  {
   "cell_type": "code",
   "execution_count": null,
   "metadata": {
    "id": "AMthDr2YkEYo"
   },
   "outputs": [],
   "source": [
    "pos_dict = pd.DataFrame(pd.read_csv(r'/content/drive/MyDrive/Deeply🤖/KNU 한국어 감성사전/KnuSentiLex-master/pos_pol_word.txt', sep='\\n', quoting=3))\n",
    "pos_dict.head()"
   ]
  },
  {
   "cell_type": "code",
   "execution_count": null,
   "metadata": {
    "id": "50Gyr-qfkb6F"
   },
   "outputs": [],
   "source": [
    "neg_dict = pd.DataFrame(pd.read_csv(r'/content/drive/MyDrive/Deeply🤖/KNU 한국어 감성사전/KnuSentiLex-master/neg_pol_word.txt', sep='\\n', quoting=3))\n",
    "neg_dict.head()"
   ]
  },
  {
   "cell_type": "markdown",
   "metadata": {
    "id": "tg9Bc6xBlESy"
   },
   "source": [
    "#### 5. 트윗의 Tone 측정하기"
   ]
  },
  {
   "cell_type": "code",
   "execution_count": null,
   "metadata": {},
   "outputs": [],
   "source": [
    "# 군산대 사전에서 긍정 사전 관련 파인 튜닝\n",
    "pos_dict = pd.DataFrame(pd.read_csv(r'/content/pos_pol_word.txt', sep='\\n', quoting=3,header=15))\n",
    "pos_dict.rename(columns={'극성 : 긍정':'word'},inplace=True)\n",
    "pos_dict.head()"
   ]
  },
  {
   "cell_type": "code",
   "execution_count": null,
   "metadata": {},
   "outputs": [],
   "source": [
    "# 군산대 사전에서 부정 사전 관련 파인 튜닝\n",
    "neg_dict = pd.DataFrame(pd.read_csv(r'/content/neg_pol_word.txt', sep='\\n', quoting=3,header=15))\n",
    "neg_dict.rename(columns={'극성 : 부정':'word'},inplace=True)\n",
    "neg_dict.head()"
   ]
  },
  {
   "cell_type": "code",
   "execution_count": null,
   "metadata": {
    "id": "_ERFsYtDk7xP"
   },
   "outputs": [],
   "source": [
    "tone_ls = []\n",
    "# 아래 함수 결과값 모으는 곳\n",
    "for doc in df_new['tokens']:\n",
    "# df_new 토큰을 대상으로 작업 수행\n",
    "    #print(doc.split())\n",
    "    #words=[]\n",
    "    #words.append(doc.split(' '))\n",
    "    splitdoc = doc.split()\n",
    "# doc를 공백 기준 스플릿한다    \n",
    "    pos=0\n",
    "    neg=0\n",
    "# pos, neg 기본 값 설정    \n",
    "    for word in splitdoc: # 이거 저위에 doc은 고정인 상태에서 추가적으로 수행\n",
    "# doc은 고정 즉 특정 토큰 고정된 상태에서 그 토큰에서 찢어진 단어들로 수행하는 것        \n",
    "# 스필릿된 단어들에 대하여        \n",
    "        if word in list(pos_dict['word']):\n",
    "            pos += 1\n",
    "# pos _ dic에 있다면 pos 에 숫자 늘림 갯수 표현하는 것임            \n",
    "        if word in list(neg_dict['word']):\n",
    "            neg += 1\n",
    "# neg _ dic에 있다면 pos 에 숫자 늘림 갯수 표현하는 것임            \n",
    "    if (pos+neg)!=0:\n",
    "        tone = (pos-neg)/(pos+neg)\n",
    "        tone_ls.append(tone)\n",
    "# 아무튼 둘 중에 하나라도 들어왔다면 위의 조치를 취해서 tone_ls 에 더한다는 뜻\n",
    "# 저 수치가 긍정,부정 판단의 척도\n",
    "    else:\n",
    "        tone_ls.append(\"NaN\")\n",
    "# 합이 0이면 nan 값처리 사실상 입력값이 없다는 뜻이기 때문. 위의 식에서 더하기 밖에 없는데\n",
    "# 합이 0이 면 들어온 값이 없다는 뜻\n",
    "df_new['tone']= tone_ls\n",
    "# 새로운 tone 컬럼에 결과값 추가"
   ]
  },
  {
   "cell_type": "code",
   "execution_count": null,
   "metadata": {
    "id": "ZWG3qCn5lNEe"
   },
   "outputs": [],
   "source": [
    "df_new.head(10)"
   ]
  },
  {
   "cell_type": "code",
   "execution_count": null,
   "metadata": {
    "id": "MojaHyPnlT6G"
   },
   "outputs": [],
   "source": [
    "df_new.to_csv(r'twitter_tone.csv')"
   ]
  },
  {
   "cell_type": "code",
   "execution_count": 4,
   "metadata": {
    "id": "wIRRa_Omlgt3"
   },
   "outputs": [],
   "source": [
    "df1=pd.read_csv('twitter_tone_3.csv')"
   ]
  },
  {
   "cell_type": "code",
   "execution_count": 6,
   "metadata": {},
   "outputs": [
    {
     "data": {
      "text/plain": [
       "0           NaN\n",
       "1     -1.000000\n",
       "2           NaN\n",
       "3     -1.000000\n",
       "4     -1.000000\n",
       "         ...   \n",
       "824    1.000000\n",
       "825    0.333333\n",
       "826         NaN\n",
       "827         NaN\n",
       "828    1.000000\n",
       "Name: tone, Length: 829, dtype: float64"
      ]
     },
     "execution_count": 6,
     "metadata": {},
     "output_type": "execute_result"
    }
   ],
   "source": [
    "df1['tone']"
   ]
  }
 ],
 "metadata": {
  "colab": {
   "collapsed_sections": [],
   "name": "knusl_02.ipynb",
   "private_outputs": true,
   "provenance": []
  },
  "kernelspec": {
   "display_name": "Python 3 (ipykernel)",
   "language": "python",
   "name": "python3"
  },
  "language_info": {
   "codemirror_mode": {
    "name": "ipython",
    "version": 3
   },
   "file_extension": ".py",
   "mimetype": "text/x-python",
   "name": "python",
   "nbconvert_exporter": "python",
   "pygments_lexer": "ipython3",
   "version": "3.9.12"
  }
 },
 "nbformat": 4,
 "nbformat_minor": 1
}
